{
 "cells": [
  {
   "cell_type": "code",
   "execution_count": 1,
   "metadata": {},
   "outputs": [],
   "source": [
    "import pandas as pd\n",
    "import lightgbm  as lgb\n",
    "from sklearn.preprocessing import LabelEncoder\n",
    "from sklearn.model_selection import train_test_split\n",
    "import numpy as np\n",
    "\n",
    "dir_loc = '/media/td/Samsung_T5/kaggle_data/ASHRAE_2019-10-15/ashrae-energy-prediction'\n",
    "building_metadata_file_name = 'building_metadata.csv'\n",
    "sample_submission_file_name = 'sample_submission.csv'\n",
    "test_file_name = 'test.csv'\n",
    "train_file_name = 'train.csv'\n",
    "weather_test_file_name = 'weather_test.csv'\n",
    "weather_train_file_name = 'weather_train.csv'"
   ]
  },
  {
   "cell_type": "markdown",
   "metadata": {},
   "source": [
    "## File characteristics"
   ]
  },
  {
   "cell_type": "code",
   "execution_count": 2,
   "metadata": {},
   "outputs": [],
   "source": [
    "building_metadata_df = pd.read_csv(f'{dir_loc}/{building_metadata_file_name}')"
   ]
  },
  {
   "cell_type": "code",
   "execution_count": 3,
   "metadata": {},
   "outputs": [
    {
     "data": {
      "text/html": [
       "<div>\n",
       "<style scoped>\n",
       "    .dataframe tbody tr th:only-of-type {\n",
       "        vertical-align: middle;\n",
       "    }\n",
       "\n",
       "    .dataframe tbody tr th {\n",
       "        vertical-align: top;\n",
       "    }\n",
       "\n",
       "    .dataframe thead th {\n",
       "        text-align: right;\n",
       "    }\n",
       "</style>\n",
       "<table border=\"1\" class=\"dataframe\">\n",
       "  <thead>\n",
       "    <tr style=\"text-align: right;\">\n",
       "      <th></th>\n",
       "      <th>site_id</th>\n",
       "      <th>building_id</th>\n",
       "      <th>primary_use</th>\n",
       "      <th>square_feet</th>\n",
       "      <th>year_built</th>\n",
       "      <th>floor_count</th>\n",
       "    </tr>\n",
       "  </thead>\n",
       "  <tbody>\n",
       "    <tr>\n",
       "      <td>0</td>\n",
       "      <td>0</td>\n",
       "      <td>0</td>\n",
       "      <td>Education</td>\n",
       "      <td>7432</td>\n",
       "      <td>2008.0</td>\n",
       "      <td>NaN</td>\n",
       "    </tr>\n",
       "    <tr>\n",
       "      <td>1</td>\n",
       "      <td>0</td>\n",
       "      <td>1</td>\n",
       "      <td>Education</td>\n",
       "      <td>2720</td>\n",
       "      <td>2004.0</td>\n",
       "      <td>NaN</td>\n",
       "    </tr>\n",
       "    <tr>\n",
       "      <td>2</td>\n",
       "      <td>0</td>\n",
       "      <td>2</td>\n",
       "      <td>Education</td>\n",
       "      <td>5376</td>\n",
       "      <td>1991.0</td>\n",
       "      <td>NaN</td>\n",
       "    </tr>\n",
       "    <tr>\n",
       "      <td>3</td>\n",
       "      <td>0</td>\n",
       "      <td>3</td>\n",
       "      <td>Education</td>\n",
       "      <td>23685</td>\n",
       "      <td>2002.0</td>\n",
       "      <td>NaN</td>\n",
       "    </tr>\n",
       "    <tr>\n",
       "      <td>4</td>\n",
       "      <td>0</td>\n",
       "      <td>4</td>\n",
       "      <td>Education</td>\n",
       "      <td>116607</td>\n",
       "      <td>1975.0</td>\n",
       "      <td>NaN</td>\n",
       "    </tr>\n",
       "  </tbody>\n",
       "</table>\n",
       "</div>"
      ],
      "text/plain": [
       "   site_id  building_id primary_use  square_feet  year_built  floor_count\n",
       "0        0            0   Education         7432      2008.0          NaN\n",
       "1        0            1   Education         2720      2004.0          NaN\n",
       "2        0            2   Education         5376      1991.0          NaN\n",
       "3        0            3   Education        23685      2002.0          NaN\n",
       "4        0            4   Education       116607      1975.0          NaN"
      ]
     },
     "execution_count": 3,
     "metadata": {},
     "output_type": "execute_result"
    }
   ],
   "source": [
    "building_metadata_df.head()"
   ]
  },
  {
   "cell_type": "code",
   "execution_count": 4,
   "metadata": {},
   "outputs": [
    {
     "data": {
      "text/plain": [
       "(1449, 6)"
      ]
     },
     "execution_count": 4,
     "metadata": {},
     "output_type": "execute_result"
    }
   ],
   "source": [
    "building_metadata_df.shape"
   ]
  },
  {
   "cell_type": "code",
   "execution_count": 5,
   "metadata": {},
   "outputs": [
    {
     "data": {
      "text/plain": [
       "Index(['site_id', 'building_id', 'primary_use', 'square_feet', 'year_built',\n",
       "       'floor_count'],\n",
       "      dtype='object')"
      ]
     },
     "execution_count": 5,
     "metadata": {},
     "output_type": "execute_result"
    }
   ],
   "source": [
    "building_metadata_df.columns"
   ]
  },
  {
   "cell_type": "code",
   "execution_count": 6,
   "metadata": {},
   "outputs": [
    {
     "data": {
      "text/plain": [
       "3     274\n",
       "13    154\n",
       "2     135\n",
       "15    124\n",
       "9     124\n",
       "0     105\n",
       "14    102\n",
       "4      91\n",
       "5      89\n",
       "8      70\n",
       "1      51\n",
       "6      44\n",
       "12     36\n",
       "10     30\n",
       "7      15\n",
       "11      5\n",
       "Name: site_id, dtype: int64"
      ]
     },
     "execution_count": 6,
     "metadata": {},
     "output_type": "execute_result"
    }
   ],
   "source": [
    "building_metadata_df['site_id'].value_counts()"
   ]
  },
  {
   "cell_type": "code",
   "execution_count": 7,
   "metadata": {},
   "outputs": [
    {
     "data": {
      "text/plain": [
       "1448    1\n",
       "475     1\n",
       "477     1\n",
       "478     1\n",
       "479     1\n",
       "       ..\n",
       "966     1\n",
       "967     1\n",
       "968     1\n",
       "969     1\n",
       "0       1\n",
       "Name: building_id, Length: 1449, dtype: int64"
      ]
     },
     "execution_count": 7,
     "metadata": {},
     "output_type": "execute_result"
    }
   ],
   "source": [
    "building_metadata_df['building_id'].value_counts()"
   ]
  },
  {
   "cell_type": "code",
   "execution_count": 8,
   "metadata": {},
   "outputs": [
    {
     "data": {
      "text/plain": [
       "Education                        0.378882\n",
       "Office                           0.192547\n",
       "Entertainment/public assembly    0.126984\n",
       "Public services                  0.107660\n",
       "Lodging/residential              0.101449\n",
       "Other                            0.017253\n",
       "Healthcare                       0.015873\n",
       "Parking                          0.015183\n",
       "Warehouse/storage                0.008972\n",
       "Manufacturing/industrial         0.008282\n",
       "Retail                           0.007591\n",
       "Services                         0.006901\n",
       "Technology/science               0.004141\n",
       "Food sales and service           0.003451\n",
       "Utility                          0.002761\n",
       "Religious worship                0.002070\n",
       "Name: primary_use, dtype: float64"
      ]
     },
     "execution_count": 8,
     "metadata": {},
     "output_type": "execute_result"
    }
   ],
   "source": [
    "building_metadata_df['primary_use'].value_counts(normalize = True)"
   ]
  },
  {
   "cell_type": "code",
   "execution_count": 9,
   "metadata": {},
   "outputs": [
    {
     "data": {
      "text/plain": [
       "count      1449.000000\n",
       "mean      92111.776398\n",
       "std      110769.950997\n",
       "min         283.000000\n",
       "25%       23012.000000\n",
       "50%       57673.000000\n",
       "75%      115676.000000\n",
       "max      875000.000000\n",
       "Name: square_feet, dtype: float64"
      ]
     },
     "execution_count": 9,
     "metadata": {},
     "output_type": "execute_result"
    }
   ],
   "source": [
    "building_metadata_df['square_feet'].describe()"
   ]
  },
  {
   "cell_type": "code",
   "execution_count": 10,
   "metadata": {},
   "outputs": [
    {
     "data": {
      "text/plain": [
       "count     675.000000\n",
       "mean     1967.957037\n",
       "std        31.054030\n",
       "min      1900.000000\n",
       "25%      1949.000000\n",
       "50%      1970.000000\n",
       "75%      1995.000000\n",
       "max      2017.000000\n",
       "Name: year_built, dtype: float64"
      ]
     },
     "execution_count": 10,
     "metadata": {},
     "output_type": "execute_result"
    }
   ],
   "source": [
    "building_metadata_df['year_built'].describe()"
   ]
  },
  {
   "cell_type": "code",
   "execution_count": null,
   "metadata": {},
   "outputs": [],
   "source": []
  },
  {
   "cell_type": "code",
   "execution_count": 11,
   "metadata": {},
   "outputs": [
    {
     "data": {
      "text/plain": [
       "count    355.000000\n",
       "mean       3.740845\n",
       "std        3.333683\n",
       "min        1.000000\n",
       "25%        1.000000\n",
       "50%        3.000000\n",
       "75%        5.000000\n",
       "max       26.000000\n",
       "Name: floor_count, dtype: float64"
      ]
     },
     "execution_count": 11,
     "metadata": {},
     "output_type": "execute_result"
    }
   ],
   "source": [
    "building_metadata_df['floor_count'].describe()"
   ]
  },
  {
   "cell_type": "code",
   "execution_count": 12,
   "metadata": {},
   "outputs": [
    {
     "data": {
      "text/plain": [
       "site_id        0.000000\n",
       "building_id    0.000000\n",
       "primary_use    0.000000\n",
       "square_feet    0.000000\n",
       "year_built     0.534161\n",
       "floor_count    0.755003\n",
       "dtype: float64"
      ]
     },
     "execution_count": 12,
     "metadata": {},
     "output_type": "execute_result"
    }
   ],
   "source": [
    "building_metadata_df.isnull().sum(axis = 0) / building_metadata_df.shape[0]"
   ]
  },
  {
   "cell_type": "code",
   "execution_count": null,
   "metadata": {},
   "outputs": [],
   "source": []
  },
  {
   "cell_type": "code",
   "execution_count": 13,
   "metadata": {},
   "outputs": [
    {
     "data": {
      "text/html": [
       "<div>\n",
       "<style scoped>\n",
       "    .dataframe tbody tr th:only-of-type {\n",
       "        vertical-align: middle;\n",
       "    }\n",
       "\n",
       "    .dataframe tbody tr th {\n",
       "        vertical-align: top;\n",
       "    }\n",
       "\n",
       "    .dataframe thead th {\n",
       "        text-align: right;\n",
       "    }\n",
       "</style>\n",
       "<table border=\"1\" class=\"dataframe\">\n",
       "  <thead>\n",
       "    <tr style=\"text-align: right;\">\n",
       "      <th></th>\n",
       "      <th>row_id</th>\n",
       "      <th>meter_reading</th>\n",
       "    </tr>\n",
       "  </thead>\n",
       "  <tbody>\n",
       "    <tr>\n",
       "      <td>0</td>\n",
       "      <td>0</td>\n",
       "      <td>0</td>\n",
       "    </tr>\n",
       "    <tr>\n",
       "      <td>1</td>\n",
       "      <td>1</td>\n",
       "      <td>0</td>\n",
       "    </tr>\n",
       "    <tr>\n",
       "      <td>2</td>\n",
       "      <td>2</td>\n",
       "      <td>0</td>\n",
       "    </tr>\n",
       "    <tr>\n",
       "      <td>3</td>\n",
       "      <td>3</td>\n",
       "      <td>0</td>\n",
       "    </tr>\n",
       "    <tr>\n",
       "      <td>4</td>\n",
       "      <td>4</td>\n",
       "      <td>0</td>\n",
       "    </tr>\n",
       "  </tbody>\n",
       "</table>\n",
       "</div>"
      ],
      "text/plain": [
       "   row_id  meter_reading\n",
       "0       0              0\n",
       "1       1              0\n",
       "2       2              0\n",
       "3       3              0\n",
       "4       4              0"
      ]
     },
     "execution_count": 13,
     "metadata": {},
     "output_type": "execute_result"
    }
   ],
   "source": [
    "sample_submission_df = pd.read_csv(f'{dir_loc}/{sample_submission_file_name}')\n",
    "sample_submission_df.head()"
   ]
  },
  {
   "cell_type": "code",
   "execution_count": 14,
   "metadata": {},
   "outputs": [
    {
     "name": "stderr",
     "output_type": "stream",
     "text": [
      "/home/td/anaconda3/envs/kaggle_projects/lib/python3.7/site-packages/ipykernel_launcher.py:6: FutureWarning: Sorting because non-concatenation axis is not aligned. A future version\n",
      "of pandas will change to not sort by default.\n",
      "\n",
      "To accept the future behavior, pass 'sort=False'.\n",
      "\n",
      "To retain the current behavior and silence the warning, pass 'sort=True'.\n",
      "\n",
      "  \n"
     ]
    }
   ],
   "source": [
    "test_df = pd.read_csv(f'{dir_loc}/{test_file_name}')\n",
    "train_df = pd.read_csv(f'{dir_loc}/{train_file_name}')\n",
    "\n",
    "train_df['train_test'] = 'train'\n",
    "test_df['train_test'] = 'test'\n",
    "train_test_df = pd.concat([test_df, train_df])\n",
    "train_test_df['building_id'] = train_test_df['building_id'].astype(np.int16)\n",
    "train_test_df['meter'] = train_test_df['meter'].astype(np.int8)\n",
    "\n",
    "del test_df, train_df"
   ]
  },
  {
   "cell_type": "code",
   "execution_count": null,
   "metadata": {},
   "outputs": [],
   "source": []
  },
  {
   "cell_type": "code",
   "execution_count": 15,
   "metadata": {},
   "outputs": [
    {
     "data": {
      "text/html": [
       "<div>\n",
       "<style scoped>\n",
       "    .dataframe tbody tr th:only-of-type {\n",
       "        vertical-align: middle;\n",
       "    }\n",
       "\n",
       "    .dataframe tbody tr th {\n",
       "        vertical-align: top;\n",
       "    }\n",
       "\n",
       "    .dataframe thead th {\n",
       "        text-align: right;\n",
       "    }\n",
       "</style>\n",
       "<table border=\"1\" class=\"dataframe\">\n",
       "  <thead>\n",
       "    <tr style=\"text-align: right;\">\n",
       "      <th></th>\n",
       "      <th>site_id</th>\n",
       "      <th>timestamp</th>\n",
       "      <th>air_temperature</th>\n",
       "      <th>cloud_coverage</th>\n",
       "      <th>dew_temperature</th>\n",
       "      <th>precip_depth_1_hr</th>\n",
       "      <th>sea_level_pressure</th>\n",
       "      <th>wind_direction</th>\n",
       "      <th>wind_speed</th>\n",
       "    </tr>\n",
       "  </thead>\n",
       "  <tbody>\n",
       "    <tr>\n",
       "      <td>0</td>\n",
       "      <td>0</td>\n",
       "      <td>2017-01-01 00:00:00</td>\n",
       "      <td>17.8</td>\n",
       "      <td>4.0</td>\n",
       "      <td>11.7</td>\n",
       "      <td>NaN</td>\n",
       "      <td>1021.4</td>\n",
       "      <td>100.0</td>\n",
       "      <td>3.6</td>\n",
       "    </tr>\n",
       "    <tr>\n",
       "      <td>1</td>\n",
       "      <td>0</td>\n",
       "      <td>2017-01-01 01:00:00</td>\n",
       "      <td>17.8</td>\n",
       "      <td>2.0</td>\n",
       "      <td>12.8</td>\n",
       "      <td>0.0</td>\n",
       "      <td>1022.0</td>\n",
       "      <td>130.0</td>\n",
       "      <td>3.1</td>\n",
       "    </tr>\n",
       "    <tr>\n",
       "      <td>2</td>\n",
       "      <td>0</td>\n",
       "      <td>2017-01-01 02:00:00</td>\n",
       "      <td>16.1</td>\n",
       "      <td>0.0</td>\n",
       "      <td>12.8</td>\n",
       "      <td>0.0</td>\n",
       "      <td>1021.9</td>\n",
       "      <td>140.0</td>\n",
       "      <td>3.1</td>\n",
       "    </tr>\n",
       "    <tr>\n",
       "      <td>3</td>\n",
       "      <td>0</td>\n",
       "      <td>2017-01-01 03:00:00</td>\n",
       "      <td>17.2</td>\n",
       "      <td>0.0</td>\n",
       "      <td>13.3</td>\n",
       "      <td>0.0</td>\n",
       "      <td>1022.2</td>\n",
       "      <td>140.0</td>\n",
       "      <td>3.1</td>\n",
       "    </tr>\n",
       "    <tr>\n",
       "      <td>4</td>\n",
       "      <td>0</td>\n",
       "      <td>2017-01-01 04:00:00</td>\n",
       "      <td>16.7</td>\n",
       "      <td>2.0</td>\n",
       "      <td>13.3</td>\n",
       "      <td>0.0</td>\n",
       "      <td>1022.3</td>\n",
       "      <td>130.0</td>\n",
       "      <td>2.6</td>\n",
       "    </tr>\n",
       "  </tbody>\n",
       "</table>\n",
       "</div>"
      ],
      "text/plain": [
       "   site_id            timestamp  air_temperature  cloud_coverage  \\\n",
       "0        0  2017-01-01 00:00:00             17.8             4.0   \n",
       "1        0  2017-01-01 01:00:00             17.8             2.0   \n",
       "2        0  2017-01-01 02:00:00             16.1             0.0   \n",
       "3        0  2017-01-01 03:00:00             17.2             0.0   \n",
       "4        0  2017-01-01 04:00:00             16.7             2.0   \n",
       "\n",
       "   dew_temperature  precip_depth_1_hr  sea_level_pressure  wind_direction  \\\n",
       "0             11.7                NaN              1021.4           100.0   \n",
       "1             12.8                0.0              1022.0           130.0   \n",
       "2             12.8                0.0              1021.9           140.0   \n",
       "3             13.3                0.0              1022.2           140.0   \n",
       "4             13.3                0.0              1022.3           130.0   \n",
       "\n",
       "   wind_speed  \n",
       "0         3.6  \n",
       "1         3.1  \n",
       "2         3.1  \n",
       "3         3.1  \n",
       "4         2.6  "
      ]
     },
     "execution_count": 15,
     "metadata": {},
     "output_type": "execute_result"
    }
   ],
   "source": [
    "weather_test_df = pd.read_csv(f'{dir_loc}/{weather_test_file_name}')\n",
    "weather_test_df.head()"
   ]
  },
  {
   "cell_type": "code",
   "execution_count": 16,
   "metadata": {},
   "outputs": [
    {
     "data": {
      "text/html": [
       "<div>\n",
       "<style scoped>\n",
       "    .dataframe tbody tr th:only-of-type {\n",
       "        vertical-align: middle;\n",
       "    }\n",
       "\n",
       "    .dataframe tbody tr th {\n",
       "        vertical-align: top;\n",
       "    }\n",
       "\n",
       "    .dataframe thead th {\n",
       "        text-align: right;\n",
       "    }\n",
       "</style>\n",
       "<table border=\"1\" class=\"dataframe\">\n",
       "  <thead>\n",
       "    <tr style=\"text-align: right;\">\n",
       "      <th></th>\n",
       "      <th>site_id</th>\n",
       "      <th>timestamp</th>\n",
       "      <th>air_temperature</th>\n",
       "      <th>cloud_coverage</th>\n",
       "      <th>dew_temperature</th>\n",
       "      <th>precip_depth_1_hr</th>\n",
       "      <th>sea_level_pressure</th>\n",
       "      <th>wind_direction</th>\n",
       "      <th>wind_speed</th>\n",
       "    </tr>\n",
       "  </thead>\n",
       "  <tbody>\n",
       "    <tr>\n",
       "      <td>0</td>\n",
       "      <td>0</td>\n",
       "      <td>2016-01-01 00:00:00</td>\n",
       "      <td>25.0</td>\n",
       "      <td>6.0</td>\n",
       "      <td>20.0</td>\n",
       "      <td>NaN</td>\n",
       "      <td>1019.7</td>\n",
       "      <td>0.0</td>\n",
       "      <td>0.0</td>\n",
       "    </tr>\n",
       "    <tr>\n",
       "      <td>1</td>\n",
       "      <td>0</td>\n",
       "      <td>2016-01-01 01:00:00</td>\n",
       "      <td>24.4</td>\n",
       "      <td>NaN</td>\n",
       "      <td>21.1</td>\n",
       "      <td>-1.0</td>\n",
       "      <td>1020.2</td>\n",
       "      <td>70.0</td>\n",
       "      <td>1.5</td>\n",
       "    </tr>\n",
       "    <tr>\n",
       "      <td>2</td>\n",
       "      <td>0</td>\n",
       "      <td>2016-01-01 02:00:00</td>\n",
       "      <td>22.8</td>\n",
       "      <td>2.0</td>\n",
       "      <td>21.1</td>\n",
       "      <td>0.0</td>\n",
       "      <td>1020.2</td>\n",
       "      <td>0.0</td>\n",
       "      <td>0.0</td>\n",
       "    </tr>\n",
       "    <tr>\n",
       "      <td>3</td>\n",
       "      <td>0</td>\n",
       "      <td>2016-01-01 03:00:00</td>\n",
       "      <td>21.1</td>\n",
       "      <td>2.0</td>\n",
       "      <td>20.6</td>\n",
       "      <td>0.0</td>\n",
       "      <td>1020.1</td>\n",
       "      <td>0.0</td>\n",
       "      <td>0.0</td>\n",
       "    </tr>\n",
       "    <tr>\n",
       "      <td>4</td>\n",
       "      <td>0</td>\n",
       "      <td>2016-01-01 04:00:00</td>\n",
       "      <td>20.0</td>\n",
       "      <td>2.0</td>\n",
       "      <td>20.0</td>\n",
       "      <td>-1.0</td>\n",
       "      <td>1020.0</td>\n",
       "      <td>250.0</td>\n",
       "      <td>2.6</td>\n",
       "    </tr>\n",
       "  </tbody>\n",
       "</table>\n",
       "</div>"
      ],
      "text/plain": [
       "   site_id            timestamp  air_temperature  cloud_coverage  \\\n",
       "0        0  2016-01-01 00:00:00             25.0             6.0   \n",
       "1        0  2016-01-01 01:00:00             24.4             NaN   \n",
       "2        0  2016-01-01 02:00:00             22.8             2.0   \n",
       "3        0  2016-01-01 03:00:00             21.1             2.0   \n",
       "4        0  2016-01-01 04:00:00             20.0             2.0   \n",
       "\n",
       "   dew_temperature  precip_depth_1_hr  sea_level_pressure  wind_direction  \\\n",
       "0             20.0                NaN              1019.7             0.0   \n",
       "1             21.1               -1.0              1020.2            70.0   \n",
       "2             21.1                0.0              1020.2             0.0   \n",
       "3             20.6                0.0              1020.1             0.0   \n",
       "4             20.0               -1.0              1020.0           250.0   \n",
       "\n",
       "   wind_speed  \n",
       "0         0.0  \n",
       "1         1.5  \n",
       "2         0.0  \n",
       "3         0.0  \n",
       "4         2.6  "
      ]
     },
     "execution_count": 16,
     "metadata": {},
     "output_type": "execute_result"
    }
   ],
   "source": [
    "weather_train_df = pd.read_csv(f'{dir_loc}/{weather_train_file_name}')\n",
    "weather_train_df.head()"
   ]
  },
  {
   "cell_type": "code",
   "execution_count": 17,
   "metadata": {},
   "outputs": [
    {
     "data": {
      "text/html": [
       "<div>\n",
       "<style scoped>\n",
       "    .dataframe tbody tr th:only-of-type {\n",
       "        vertical-align: middle;\n",
       "    }\n",
       "\n",
       "    .dataframe tbody tr th {\n",
       "        vertical-align: top;\n",
       "    }\n",
       "\n",
       "    .dataframe thead th {\n",
       "        text-align: right;\n",
       "    }\n",
       "</style>\n",
       "<table border=\"1\" class=\"dataframe\">\n",
       "  <thead>\n",
       "    <tr style=\"text-align: right;\">\n",
       "      <th></th>\n",
       "      <th>site_id</th>\n",
       "      <th>air_temperature</th>\n",
       "      <th>cloud_coverage</th>\n",
       "      <th>dew_temperature</th>\n",
       "      <th>precip_depth_1_hr</th>\n",
       "      <th>sea_level_pressure</th>\n",
       "      <th>wind_direction</th>\n",
       "      <th>wind_speed</th>\n",
       "    </tr>\n",
       "  </thead>\n",
       "  <tbody>\n",
       "    <tr>\n",
       "      <td>count</td>\n",
       "      <td>277243.000000</td>\n",
       "      <td>277139.000000</td>\n",
       "      <td>136795.000000</td>\n",
       "      <td>276916.000000</td>\n",
       "      <td>181655.000000</td>\n",
       "      <td>255978.000000</td>\n",
       "      <td>264873.000000</td>\n",
       "      <td>276783.000000</td>\n",
       "    </tr>\n",
       "    <tr>\n",
       "      <td>mean</td>\n",
       "      <td>7.484654</td>\n",
       "      <td>14.276863</td>\n",
       "      <td>2.187317</td>\n",
       "      <td>7.487658</td>\n",
       "      <td>1.095395</td>\n",
       "      <td>1016.195762</td>\n",
       "      <td>180.426023</td>\n",
       "      <td>3.548873</td>\n",
       "    </tr>\n",
       "    <tr>\n",
       "      <td>std</td>\n",
       "      <td>4.616959</td>\n",
       "      <td>10.741605</td>\n",
       "      <td>2.620627</td>\n",
       "      <td>10.153973</td>\n",
       "      <td>9.163511</td>\n",
       "      <td>7.940392</td>\n",
       "      <td>110.456872</td>\n",
       "      <td>2.317184</td>\n",
       "    </tr>\n",
       "    <tr>\n",
       "      <td>min</td>\n",
       "      <td>0.000000</td>\n",
       "      <td>-28.100000</td>\n",
       "      <td>0.000000</td>\n",
       "      <td>-31.600000</td>\n",
       "      <td>-1.000000</td>\n",
       "      <td>972.000000</td>\n",
       "      <td>0.000000</td>\n",
       "      <td>0.000000</td>\n",
       "    </tr>\n",
       "    <tr>\n",
       "      <td>25%</td>\n",
       "      <td>3.000000</td>\n",
       "      <td>7.200000</td>\n",
       "      <td>0.000000</td>\n",
       "      <td>0.600000</td>\n",
       "      <td>0.000000</td>\n",
       "      <td>1011.600000</td>\n",
       "      <td>80.000000</td>\n",
       "      <td>2.100000</td>\n",
       "    </tr>\n",
       "    <tr>\n",
       "      <td>50%</td>\n",
       "      <td>7.000000</td>\n",
       "      <td>15.000000</td>\n",
       "      <td>2.000000</td>\n",
       "      <td>8.400000</td>\n",
       "      <td>0.000000</td>\n",
       "      <td>1016.300000</td>\n",
       "      <td>190.000000</td>\n",
       "      <td>3.100000</td>\n",
       "    </tr>\n",
       "    <tr>\n",
       "      <td>75%</td>\n",
       "      <td>12.000000</td>\n",
       "      <td>22.200000</td>\n",
       "      <td>4.000000</td>\n",
       "      <td>15.000000</td>\n",
       "      <td>0.000000</td>\n",
       "      <td>1020.800000</td>\n",
       "      <td>280.000000</td>\n",
       "      <td>4.600000</td>\n",
       "    </tr>\n",
       "    <tr>\n",
       "      <td>max</td>\n",
       "      <td>15.000000</td>\n",
       "      <td>48.300000</td>\n",
       "      <td>9.000000</td>\n",
       "      <td>26.700000</td>\n",
       "      <td>597.000000</td>\n",
       "      <td>1050.100000</td>\n",
       "      <td>360.000000</td>\n",
       "      <td>24.200000</td>\n",
       "    </tr>\n",
       "  </tbody>\n",
       "</table>\n",
       "</div>"
      ],
      "text/plain": [
       "             site_id  air_temperature  cloud_coverage  dew_temperature  \\\n",
       "count  277243.000000    277139.000000   136795.000000    276916.000000   \n",
       "mean        7.484654        14.276863        2.187317         7.487658   \n",
       "std         4.616959        10.741605        2.620627        10.153973   \n",
       "min         0.000000       -28.100000        0.000000       -31.600000   \n",
       "25%         3.000000         7.200000        0.000000         0.600000   \n",
       "50%         7.000000        15.000000        2.000000         8.400000   \n",
       "75%        12.000000        22.200000        4.000000        15.000000   \n",
       "max        15.000000        48.300000        9.000000        26.700000   \n",
       "\n",
       "       precip_depth_1_hr  sea_level_pressure  wind_direction     wind_speed  \n",
       "count      181655.000000       255978.000000   264873.000000  276783.000000  \n",
       "mean            1.095395         1016.195762      180.426023       3.548873  \n",
       "std             9.163511            7.940392      110.456872       2.317184  \n",
       "min            -1.000000          972.000000        0.000000       0.000000  \n",
       "25%             0.000000         1011.600000       80.000000       2.100000  \n",
       "50%             0.000000         1016.300000      190.000000       3.100000  \n",
       "75%             0.000000         1020.800000      280.000000       4.600000  \n",
       "max           597.000000         1050.100000      360.000000      24.200000  "
      ]
     },
     "execution_count": 17,
     "metadata": {},
     "output_type": "execute_result"
    }
   ],
   "source": [
    "weather_test_df.describe()"
   ]
  },
  {
   "cell_type": "code",
   "execution_count": 18,
   "metadata": {},
   "outputs": [
    {
     "data": {
      "text/html": [
       "<div>\n",
       "<style scoped>\n",
       "    .dataframe tbody tr th:only-of-type {\n",
       "        vertical-align: middle;\n",
       "    }\n",
       "\n",
       "    .dataframe tbody tr th {\n",
       "        vertical-align: top;\n",
       "    }\n",
       "\n",
       "    .dataframe thead th {\n",
       "        text-align: right;\n",
       "    }\n",
       "</style>\n",
       "<table border=\"1\" class=\"dataframe\">\n",
       "  <thead>\n",
       "    <tr style=\"text-align: right;\">\n",
       "      <th></th>\n",
       "      <th>site_id</th>\n",
       "      <th>air_temperature</th>\n",
       "      <th>cloud_coverage</th>\n",
       "      <th>dew_temperature</th>\n",
       "      <th>precip_depth_1_hr</th>\n",
       "      <th>sea_level_pressure</th>\n",
       "      <th>wind_direction</th>\n",
       "      <th>wind_speed</th>\n",
       "    </tr>\n",
       "  </thead>\n",
       "  <tbody>\n",
       "    <tr>\n",
       "      <td>count</td>\n",
       "      <td>139773.000000</td>\n",
       "      <td>139718.000000</td>\n",
       "      <td>70600.000000</td>\n",
       "      <td>139660.000000</td>\n",
       "      <td>89484.000000</td>\n",
       "      <td>129155.000000</td>\n",
       "      <td>133505.000000</td>\n",
       "      <td>139469.000000</td>\n",
       "    </tr>\n",
       "    <tr>\n",
       "      <td>mean</td>\n",
       "      <td>7.478977</td>\n",
       "      <td>14.418106</td>\n",
       "      <td>2.149306</td>\n",
       "      <td>7.350158</td>\n",
       "      <td>0.983047</td>\n",
       "      <td>1016.158038</td>\n",
       "      <td>180.526632</td>\n",
       "      <td>3.560527</td>\n",
       "    </tr>\n",
       "    <tr>\n",
       "      <td>std</td>\n",
       "      <td>4.604744</td>\n",
       "      <td>10.626595</td>\n",
       "      <td>2.599150</td>\n",
       "      <td>9.790235</td>\n",
       "      <td>8.463678</td>\n",
       "      <td>7.629684</td>\n",
       "      <td>111.523629</td>\n",
       "      <td>2.335874</td>\n",
       "    </tr>\n",
       "    <tr>\n",
       "      <td>min</td>\n",
       "      <td>0.000000</td>\n",
       "      <td>-28.900000</td>\n",
       "      <td>0.000000</td>\n",
       "      <td>-35.000000</td>\n",
       "      <td>-1.000000</td>\n",
       "      <td>968.200000</td>\n",
       "      <td>0.000000</td>\n",
       "      <td>0.000000</td>\n",
       "    </tr>\n",
       "    <tr>\n",
       "      <td>25%</td>\n",
       "      <td>3.000000</td>\n",
       "      <td>7.200000</td>\n",
       "      <td>0.000000</td>\n",
       "      <td>0.600000</td>\n",
       "      <td>0.000000</td>\n",
       "      <td>1011.800000</td>\n",
       "      <td>80.000000</td>\n",
       "      <td>2.100000</td>\n",
       "    </tr>\n",
       "    <tr>\n",
       "      <td>50%</td>\n",
       "      <td>7.000000</td>\n",
       "      <td>15.000000</td>\n",
       "      <td>2.000000</td>\n",
       "      <td>8.300000</td>\n",
       "      <td>0.000000</td>\n",
       "      <td>1016.400000</td>\n",
       "      <td>190.000000</td>\n",
       "      <td>3.100000</td>\n",
       "    </tr>\n",
       "    <tr>\n",
       "      <td>75%</td>\n",
       "      <td>11.000000</td>\n",
       "      <td>22.200000</td>\n",
       "      <td>4.000000</td>\n",
       "      <td>14.400000</td>\n",
       "      <td>0.000000</td>\n",
       "      <td>1020.800000</td>\n",
       "      <td>280.000000</td>\n",
       "      <td>5.000000</td>\n",
       "    </tr>\n",
       "    <tr>\n",
       "      <td>max</td>\n",
       "      <td>15.000000</td>\n",
       "      <td>47.200000</td>\n",
       "      <td>9.000000</td>\n",
       "      <td>26.100000</td>\n",
       "      <td>343.000000</td>\n",
       "      <td>1045.500000</td>\n",
       "      <td>360.000000</td>\n",
       "      <td>19.000000</td>\n",
       "    </tr>\n",
       "  </tbody>\n",
       "</table>\n",
       "</div>"
      ],
      "text/plain": [
       "             site_id  air_temperature  cloud_coverage  dew_temperature  \\\n",
       "count  139773.000000    139718.000000    70600.000000    139660.000000   \n",
       "mean        7.478977        14.418106        2.149306         7.350158   \n",
       "std         4.604744        10.626595        2.599150         9.790235   \n",
       "min         0.000000       -28.900000        0.000000       -35.000000   \n",
       "25%         3.000000         7.200000        0.000000         0.600000   \n",
       "50%         7.000000        15.000000        2.000000         8.300000   \n",
       "75%        11.000000        22.200000        4.000000        14.400000   \n",
       "max        15.000000        47.200000        9.000000        26.100000   \n",
       "\n",
       "       precip_depth_1_hr  sea_level_pressure  wind_direction     wind_speed  \n",
       "count       89484.000000       129155.000000   133505.000000  139469.000000  \n",
       "mean            0.983047         1016.158038      180.526632       3.560527  \n",
       "std             8.463678            7.629684      111.523629       2.335874  \n",
       "min            -1.000000          968.200000        0.000000       0.000000  \n",
       "25%             0.000000         1011.800000       80.000000       2.100000  \n",
       "50%             0.000000         1016.400000      190.000000       3.100000  \n",
       "75%             0.000000         1020.800000      280.000000       5.000000  \n",
       "max           343.000000         1045.500000      360.000000      19.000000  "
      ]
     },
     "execution_count": 18,
     "metadata": {},
     "output_type": "execute_result"
    }
   ],
   "source": [
    "weather_train_df.describe()"
   ]
  },
  {
   "cell_type": "code",
   "execution_count": 19,
   "metadata": {},
   "outputs": [],
   "source": [
    "weather_df = pd.concat([weather_train_df, weather_test_df])"
   ]
  },
  {
   "cell_type": "code",
   "execution_count": 20,
   "metadata": {},
   "outputs": [
    {
     "data": {
      "text/plain": [
       "site_id               0.000000\n",
       "timestamp             0.000000\n",
       "air_temperature       0.000381\n",
       "cloud_coverage        0.502669\n",
       "dew_temperature       0.001055\n",
       "precip_depth_1_hr     0.349812\n",
       "sea_level_pressure    0.076455\n",
       "wind_direction        0.044694\n",
       "wind_speed            0.001832\n",
       "dtype: float64"
      ]
     },
     "execution_count": 20,
     "metadata": {},
     "output_type": "execute_result"
    }
   ],
   "source": [
    "weather_df.isnull().sum(axis = 0) / weather_df.shape[0]"
   ]
  },
  {
   "cell_type": "code",
   "execution_count": 21,
   "metadata": {},
   "outputs": [
    {
     "data": {
      "text/plain": [
       "site_id               0.000000\n",
       "timestamp             0.000000\n",
       "air_temperature       0.000393\n",
       "cloud_coverage        0.494895\n",
       "dew_temperature       0.000808\n",
       "precip_depth_1_hr     0.359791\n",
       "sea_level_pressure    0.075966\n",
       "wind_direction        0.044844\n",
       "wind_speed            0.002175\n",
       "dtype: float64"
      ]
     },
     "execution_count": 21,
     "metadata": {},
     "output_type": "execute_result"
    }
   ],
   "source": [
    "weather_train_df.isnull().sum(axis = 0) / weather_train_df.shape[0]"
   ]
  },
  {
   "cell_type": "code",
   "execution_count": 22,
   "metadata": {},
   "outputs": [
    {
     "data": {
      "text/plain": [
       "site_id               0.000000\n",
       "timestamp             0.000000\n",
       "air_temperature       0.000375\n",
       "cloud_coverage        0.506588\n",
       "dew_temperature       0.001179\n",
       "precip_depth_1_hr     0.344781\n",
       "sea_level_pressure    0.076702\n",
       "wind_direction        0.044618\n",
       "wind_speed            0.001659\n",
       "dtype: float64"
      ]
     },
     "execution_count": 22,
     "metadata": {},
     "output_type": "execute_result"
    }
   ],
   "source": [
    "weather_test_df.isnull().sum(axis = 0) / weather_test_df.shape[0]"
   ]
  },
  {
   "cell_type": "code",
   "execution_count": 23,
   "metadata": {},
   "outputs": [],
   "source": [
    "del weather_test_df, weather_train_df"
   ]
  },
  {
   "cell_type": "code",
   "execution_count": 24,
   "metadata": {},
   "outputs": [
    {
     "data": {
      "text/plain": [
       "count    416857.000000\n",
       "mean         14.324204\n",
       "std          10.703390\n",
       "min         -28.900000\n",
       "25%           7.200000\n",
       "50%          15.000000\n",
       "75%          22.200000\n",
       "max          48.300000\n",
       "Name: air_temperature, dtype: float64"
      ]
     },
     "execution_count": 24,
     "metadata": {},
     "output_type": "execute_result"
    }
   ],
   "source": [
    "weather_df['air_temperature'].describe()"
   ]
  },
  {
   "cell_type": "code",
   "execution_count": 25,
   "metadata": {},
   "outputs": [
    {
     "data": {
      "text/plain": [
       "count    207395.000000\n",
       "mean          2.174377\n",
       "std           2.613391\n",
       "min           0.000000\n",
       "25%           0.000000\n",
       "50%           2.000000\n",
       "75%           4.000000\n",
       "max           9.000000\n",
       "Name: cloud_coverage, dtype: float64"
      ]
     },
     "execution_count": 25,
     "metadata": {},
     "output_type": "execute_result"
    }
   ],
   "source": [
    "weather_df['cloud_coverage'].describe()"
   ]
  },
  {
   "cell_type": "code",
   "execution_count": 26,
   "metadata": {},
   "outputs": [
    {
     "data": {
      "text/html": [
       "<div>\n",
       "<style scoped>\n",
       "    .dataframe tbody tr th:only-of-type {\n",
       "        vertical-align: middle;\n",
       "    }\n",
       "\n",
       "    .dataframe tbody tr th {\n",
       "        vertical-align: top;\n",
       "    }\n",
       "\n",
       "    .dataframe thead th {\n",
       "        text-align: right;\n",
       "    }\n",
       "</style>\n",
       "<table border=\"1\" class=\"dataframe\">\n",
       "  <thead>\n",
       "    <tr style=\"text-align: right;\">\n",
       "      <th></th>\n",
       "      <th>site_id</th>\n",
       "      <th>air_temperature</th>\n",
       "      <th>cloud_coverage</th>\n",
       "      <th>dew_temperature</th>\n",
       "      <th>precip_depth_1_hr</th>\n",
       "      <th>sea_level_pressure</th>\n",
       "      <th>wind_direction</th>\n",
       "      <th>wind_speed</th>\n",
       "    </tr>\n",
       "  </thead>\n",
       "  <tbody>\n",
       "    <tr>\n",
       "      <td>count</td>\n",
       "      <td>209621.000000</td>\n",
       "      <td>209482.000000</td>\n",
       "      <td>0.0</td>\n",
       "      <td>209318.000000</td>\n",
       "      <td>116077.000000</td>\n",
       "      <td>187854.000000</td>\n",
       "      <td>202752.000000</td>\n",
       "      <td>209231.000000</td>\n",
       "    </tr>\n",
       "    <tr>\n",
       "      <td>mean</td>\n",
       "      <td>7.280988</td>\n",
       "      <td>12.678670</td>\n",
       "      <td>NaN</td>\n",
       "      <td>7.494326</td>\n",
       "      <td>2.236714</td>\n",
       "      <td>1015.596414</td>\n",
       "      <td>184.631510</td>\n",
       "      <td>3.714822</td>\n",
       "    </tr>\n",
       "    <tr>\n",
       "      <td>std</td>\n",
       "      <td>4.539802</td>\n",
       "      <td>10.636721</td>\n",
       "      <td>NaN</td>\n",
       "      <td>10.276560</td>\n",
       "      <td>12.782700</td>\n",
       "      <td>7.849045</td>\n",
       "      <td>107.925446</td>\n",
       "      <td>2.301223</td>\n",
       "    </tr>\n",
       "    <tr>\n",
       "      <td>min</td>\n",
       "      <td>0.000000</td>\n",
       "      <td>-28.800000</td>\n",
       "      <td>NaN</td>\n",
       "      <td>-35.000000</td>\n",
       "      <td>-1.000000</td>\n",
       "      <td>972.000000</td>\n",
       "      <td>0.000000</td>\n",
       "      <td>0.000000</td>\n",
       "    </tr>\n",
       "    <tr>\n",
       "      <td>25%</td>\n",
       "      <td>4.000000</td>\n",
       "      <td>5.600000</td>\n",
       "      <td>NaN</td>\n",
       "      <td>0.600000</td>\n",
       "      <td>0.000000</td>\n",
       "      <td>1011.100000</td>\n",
       "      <td>90.000000</td>\n",
       "      <td>2.100000</td>\n",
       "    </tr>\n",
       "    <tr>\n",
       "      <td>50%</td>\n",
       "      <td>7.000000</td>\n",
       "      <td>13.500000</td>\n",
       "      <td>NaN</td>\n",
       "      <td>8.900000</td>\n",
       "      <td>0.000000</td>\n",
       "      <td>1015.800000</td>\n",
       "      <td>190.000000</td>\n",
       "      <td>3.600000</td>\n",
       "    </tr>\n",
       "    <tr>\n",
       "      <td>75%</td>\n",
       "      <td>11.000000</td>\n",
       "      <td>20.600000</td>\n",
       "      <td>NaN</td>\n",
       "      <td>15.000000</td>\n",
       "      <td>0.000000</td>\n",
       "      <td>1020.300000</td>\n",
       "      <td>280.000000</td>\n",
       "      <td>5.100000</td>\n",
       "    </tr>\n",
       "    <tr>\n",
       "      <td>max</td>\n",
       "      <td>15.000000</td>\n",
       "      <td>46.700000</td>\n",
       "      <td>NaN</td>\n",
       "      <td>26.700000</td>\n",
       "      <td>597.000000</td>\n",
       "      <td>1046.500000</td>\n",
       "      <td>360.000000</td>\n",
       "      <td>21.600000</td>\n",
       "    </tr>\n",
       "  </tbody>\n",
       "</table>\n",
       "</div>"
      ],
      "text/plain": [
       "             site_id  air_temperature  cloud_coverage  dew_temperature  \\\n",
       "count  209621.000000    209482.000000             0.0    209318.000000   \n",
       "mean        7.280988        12.678670             NaN         7.494326   \n",
       "std         4.539802        10.636721             NaN        10.276560   \n",
       "min         0.000000       -28.800000             NaN       -35.000000   \n",
       "25%         4.000000         5.600000             NaN         0.600000   \n",
       "50%         7.000000        13.500000             NaN         8.900000   \n",
       "75%        11.000000        20.600000             NaN        15.000000   \n",
       "max        15.000000        46.700000             NaN        26.700000   \n",
       "\n",
       "       precip_depth_1_hr  sea_level_pressure  wind_direction     wind_speed  \n",
       "count      116077.000000       187854.000000   202752.000000  209231.000000  \n",
       "mean            2.236714         1015.596414      184.631510       3.714822  \n",
       "std            12.782700            7.849045      107.925446       2.301223  \n",
       "min            -1.000000          972.000000        0.000000       0.000000  \n",
       "25%             0.000000         1011.100000       90.000000       2.100000  \n",
       "50%             0.000000         1015.800000      190.000000       3.600000  \n",
       "75%             0.000000         1020.300000      280.000000       5.100000  \n",
       "max           597.000000         1046.500000      360.000000      21.600000  "
      ]
     },
     "execution_count": 26,
     "metadata": {},
     "output_type": "execute_result"
    }
   ],
   "source": [
    "weather_df[weather_df['cloud_coverage'].isnull()].describe()"
   ]
  },
  {
   "cell_type": "code",
   "execution_count": 27,
   "metadata": {},
   "outputs": [
    {
     "data": {
      "text/html": [
       "<div>\n",
       "<style scoped>\n",
       "    .dataframe tbody tr th:only-of-type {\n",
       "        vertical-align: middle;\n",
       "    }\n",
       "\n",
       "    .dataframe tbody tr th {\n",
       "        vertical-align: top;\n",
       "    }\n",
       "\n",
       "    .dataframe thead th {\n",
       "        text-align: right;\n",
       "    }\n",
       "</style>\n",
       "<table border=\"1\" class=\"dataframe\">\n",
       "  <thead>\n",
       "    <tr style=\"text-align: right;\">\n",
       "      <th></th>\n",
       "      <th>site_id</th>\n",
       "      <th>air_temperature</th>\n",
       "      <th>cloud_coverage</th>\n",
       "      <th>dew_temperature</th>\n",
       "      <th>precip_depth_1_hr</th>\n",
       "      <th>sea_level_pressure</th>\n",
       "      <th>wind_direction</th>\n",
       "      <th>wind_speed</th>\n",
       "    </tr>\n",
       "  </thead>\n",
       "  <tbody>\n",
       "    <tr>\n",
       "      <td>count</td>\n",
       "      <td>207395.000000</td>\n",
       "      <td>207375.000000</td>\n",
       "      <td>207395.000000</td>\n",
       "      <td>207258.000000</td>\n",
       "      <td>155062.000000</td>\n",
       "      <td>197279.000000</td>\n",
       "      <td>195626.000000</td>\n",
       "      <td>207021.000000</td>\n",
       "    </tr>\n",
       "    <tr>\n",
       "      <td>mean</td>\n",
       "      <td>7.686680</td>\n",
       "      <td>15.986456</td>\n",
       "      <td>2.174377</td>\n",
       "      <td>7.388270</td>\n",
       "      <td>0.176188</td>\n",
       "      <td>1016.741779</td>\n",
       "      <td>176.136004</td>\n",
       "      <td>3.389003</td>\n",
       "    </tr>\n",
       "    <tr>\n",
       "      <td>std</td>\n",
       "      <td>4.676727</td>\n",
       "      <td>10.511988</td>\n",
       "      <td>2.613391</td>\n",
       "      <td>9.782034</td>\n",
       "      <td>3.947172</td>\n",
       "      <td>7.785679</td>\n",
       "      <td>113.571794</td>\n",
       "      <td>2.334338</td>\n",
       "    </tr>\n",
       "    <tr>\n",
       "      <td>min</td>\n",
       "      <td>0.000000</td>\n",
       "      <td>-28.900000</td>\n",
       "      <td>0.000000</td>\n",
       "      <td>-31.700000</td>\n",
       "      <td>-1.000000</td>\n",
       "      <td>968.200000</td>\n",
       "      <td>0.000000</td>\n",
       "      <td>0.000000</td>\n",
       "    </tr>\n",
       "    <tr>\n",
       "      <td>25%</td>\n",
       "      <td>3.000000</td>\n",
       "      <td>8.900000</td>\n",
       "      <td>0.000000</td>\n",
       "      <td>0.600000</td>\n",
       "      <td>0.000000</td>\n",
       "      <td>1012.300000</td>\n",
       "      <td>80.000000</td>\n",
       "      <td>2.100000</td>\n",
       "    </tr>\n",
       "    <tr>\n",
       "      <td>50%</td>\n",
       "      <td>8.000000</td>\n",
       "      <td>16.100000</td>\n",
       "      <td>2.000000</td>\n",
       "      <td>7.900000</td>\n",
       "      <td>0.000000</td>\n",
       "      <td>1016.800000</td>\n",
       "      <td>180.000000</td>\n",
       "      <td>3.100000</td>\n",
       "    </tr>\n",
       "    <tr>\n",
       "      <td>75%</td>\n",
       "      <td>12.000000</td>\n",
       "      <td>23.900000</td>\n",
       "      <td>4.000000</td>\n",
       "      <td>14.400000</td>\n",
       "      <td>0.000000</td>\n",
       "      <td>1021.300000</td>\n",
       "      <td>280.000000</td>\n",
       "      <td>4.600000</td>\n",
       "    </tr>\n",
       "    <tr>\n",
       "      <td>max</td>\n",
       "      <td>15.000000</td>\n",
       "      <td>48.300000</td>\n",
       "      <td>9.000000</td>\n",
       "      <td>26.700000</td>\n",
       "      <td>442.000000</td>\n",
       "      <td>1050.100000</td>\n",
       "      <td>360.000000</td>\n",
       "      <td>24.200000</td>\n",
       "    </tr>\n",
       "  </tbody>\n",
       "</table>\n",
       "</div>"
      ],
      "text/plain": [
       "             site_id  air_temperature  cloud_coverage  dew_temperature  \\\n",
       "count  207395.000000    207375.000000   207395.000000    207258.000000   \n",
       "mean        7.686680        15.986456        2.174377         7.388270   \n",
       "std         4.676727        10.511988        2.613391         9.782034   \n",
       "min         0.000000       -28.900000        0.000000       -31.700000   \n",
       "25%         3.000000         8.900000        0.000000         0.600000   \n",
       "50%         8.000000        16.100000        2.000000         7.900000   \n",
       "75%        12.000000        23.900000        4.000000        14.400000   \n",
       "max        15.000000        48.300000        9.000000        26.700000   \n",
       "\n",
       "       precip_depth_1_hr  sea_level_pressure  wind_direction     wind_speed  \n",
       "count      155062.000000       197279.000000   195626.000000  207021.000000  \n",
       "mean            0.176188         1016.741779      176.136004       3.389003  \n",
       "std             3.947172            7.785679      113.571794       2.334338  \n",
       "min            -1.000000          968.200000        0.000000       0.000000  \n",
       "25%             0.000000         1012.300000       80.000000       2.100000  \n",
       "50%             0.000000         1016.800000      180.000000       3.100000  \n",
       "75%             0.000000         1021.300000      280.000000       4.600000  \n",
       "max           442.000000         1050.100000      360.000000      24.200000  "
      ]
     },
     "execution_count": 27,
     "metadata": {},
     "output_type": "execute_result"
    }
   ],
   "source": [
    "weather_df[~weather_df['cloud_coverage'].isnull()].describe()"
   ]
  },
  {
   "cell_type": "markdown",
   "metadata": {},
   "source": [
    "Weather is warmer where cloud coverage is null. It is possible that cloud coverage is not included in clear sky weather. Filling nans with 0s for now + including a flag."
   ]
  },
  {
   "cell_type": "code",
   "execution_count": 28,
   "metadata": {},
   "outputs": [
    {
     "data": {
      "text/plain": [
       "count    416576.000000\n",
       "mean          7.441560\n",
       "std          10.033695\n",
       "min         -35.000000\n",
       "25%           0.600000\n",
       "50%           8.300000\n",
       "75%          15.000000\n",
       "max          26.700000\n",
       "Name: dew_temperature, dtype: float64"
      ]
     },
     "execution_count": 28,
     "metadata": {},
     "output_type": "execute_result"
    }
   ],
   "source": [
    "weather_df['dew_temperature'].describe()"
   ]
  },
  {
   "cell_type": "code",
   "execution_count": 29,
   "metadata": {},
   "outputs": [
    {
     "data": {
      "text/plain": [
       "0           0.0\n",
       "1          70.0\n",
       "2           0.0\n",
       "3           0.0\n",
       "4         250.0\n",
       "          ...  \n",
       "277238    150.0\n",
       "277239    140.0\n",
       "277240    140.0\n",
       "277241    140.0\n",
       "277242    140.0\n",
       "Name: wind_direction, Length: 417016, dtype: float64"
      ]
     },
     "execution_count": 29,
     "metadata": {},
     "output_type": "execute_result"
    }
   ],
   "source": [
    "weather_df['wind_direction']"
   ]
  },
  {
   "cell_type": "code",
   "execution_count": 30,
   "metadata": {},
   "outputs": [
    {
     "data": {
      "text/html": [
       "<div>\n",
       "<style scoped>\n",
       "    .dataframe tbody tr th:only-of-type {\n",
       "        vertical-align: middle;\n",
       "    }\n",
       "\n",
       "    .dataframe tbody tr th {\n",
       "        vertical-align: top;\n",
       "    }\n",
       "\n",
       "    .dataframe thead th {\n",
       "        text-align: right;\n",
       "    }\n",
       "</style>\n",
       "<table border=\"1\" class=\"dataframe\">\n",
       "  <thead>\n",
       "    <tr style=\"text-align: right;\">\n",
       "      <th></th>\n",
       "      <th>site_id</th>\n",
       "      <th>air_temperature</th>\n",
       "      <th>cloud_coverage</th>\n",
       "      <th>dew_temperature</th>\n",
       "      <th>precip_depth_1_hr</th>\n",
       "      <th>sea_level_pressure</th>\n",
       "      <th>wind_direction</th>\n",
       "      <th>wind_speed</th>\n",
       "    </tr>\n",
       "  </thead>\n",
       "  <tbody>\n",
       "    <tr>\n",
       "      <td>count</td>\n",
       "      <td>145877.000000</td>\n",
       "      <td>145843.000000</td>\n",
       "      <td>52333.000000</td>\n",
       "      <td>145748.000000</td>\n",
       "      <td>0.0</td>\n",
       "      <td>118217.000000</td>\n",
       "      <td>144378.000000</td>\n",
       "      <td>145836.000000</td>\n",
       "    </tr>\n",
       "    <tr>\n",
       "      <td>mean</td>\n",
       "      <td>8.162562</td>\n",
       "      <td>10.017472</td>\n",
       "      <td>3.154854</td>\n",
       "      <td>5.484872</td>\n",
       "      <td>NaN</td>\n",
       "      <td>1016.008018</td>\n",
       "      <td>202.635221</td>\n",
       "      <td>4.121204</td>\n",
       "    </tr>\n",
       "    <tr>\n",
       "      <td>std</td>\n",
       "      <td>4.662359</td>\n",
       "      <td>9.213586</td>\n",
       "      <td>3.193189</td>\n",
       "      <td>8.718865</td>\n",
       "      <td>NaN</td>\n",
       "      <td>9.500688</td>\n",
       "      <td>98.301414</td>\n",
       "      <td>2.423031</td>\n",
       "    </tr>\n",
       "    <tr>\n",
       "      <td>min</td>\n",
       "      <td>0.000000</td>\n",
       "      <td>-28.800000</td>\n",
       "      <td>0.000000</td>\n",
       "      <td>-35.000000</td>\n",
       "      <td>NaN</td>\n",
       "      <td>968.200000</td>\n",
       "      <td>0.000000</td>\n",
       "      <td>0.000000</td>\n",
       "    </tr>\n",
       "    <tr>\n",
       "      <td>25%</td>\n",
       "      <td>5.000000</td>\n",
       "      <td>4.700000</td>\n",
       "      <td>0.000000</td>\n",
       "      <td>1.000000</td>\n",
       "      <td>NaN</td>\n",
       "      <td>1010.700000</td>\n",
       "      <td>120.000000</td>\n",
       "      <td>2.600000</td>\n",
       "    </tr>\n",
       "    <tr>\n",
       "      <td>50%</td>\n",
       "      <td>7.000000</td>\n",
       "      <td>10.600000</td>\n",
       "      <td>2.000000</td>\n",
       "      <td>7.000000</td>\n",
       "      <td>NaN</td>\n",
       "      <td>1016.600000</td>\n",
       "      <td>220.000000</td>\n",
       "      <td>3.600000</td>\n",
       "    </tr>\n",
       "    <tr>\n",
       "      <td>75%</td>\n",
       "      <td>12.000000</td>\n",
       "      <td>16.200000</td>\n",
       "      <td>7.000000</td>\n",
       "      <td>11.700000</td>\n",
       "      <td>NaN</td>\n",
       "      <td>1022.200000</td>\n",
       "      <td>280.000000</td>\n",
       "      <td>5.700000</td>\n",
       "    </tr>\n",
       "    <tr>\n",
       "      <td>max</td>\n",
       "      <td>15.000000</td>\n",
       "      <td>39.400000</td>\n",
       "      <td>9.000000</td>\n",
       "      <td>25.600000</td>\n",
       "      <td>NaN</td>\n",
       "      <td>1045.500000</td>\n",
       "      <td>360.000000</td>\n",
       "      <td>23.000000</td>\n",
       "    </tr>\n",
       "  </tbody>\n",
       "</table>\n",
       "</div>"
      ],
      "text/plain": [
       "             site_id  air_temperature  cloud_coverage  dew_temperature  \\\n",
       "count  145877.000000    145843.000000    52333.000000    145748.000000   \n",
       "mean        8.162562        10.017472        3.154854         5.484872   \n",
       "std         4.662359         9.213586        3.193189         8.718865   \n",
       "min         0.000000       -28.800000        0.000000       -35.000000   \n",
       "25%         5.000000         4.700000        0.000000         1.000000   \n",
       "50%         7.000000        10.600000        2.000000         7.000000   \n",
       "75%        12.000000        16.200000        7.000000        11.700000   \n",
       "max        15.000000        39.400000        9.000000        25.600000   \n",
       "\n",
       "       precip_depth_1_hr  sea_level_pressure  wind_direction     wind_speed  \n",
       "count                0.0       118217.000000   144378.000000  145836.000000  \n",
       "mean                 NaN         1016.008018      202.635221       4.121204  \n",
       "std                  NaN            9.500688       98.301414       2.423031  \n",
       "min                  NaN          968.200000        0.000000       0.000000  \n",
       "25%                  NaN         1010.700000      120.000000       2.600000  \n",
       "50%                  NaN         1016.600000      220.000000       3.600000  \n",
       "75%                  NaN         1022.200000      280.000000       5.700000  \n",
       "max                  NaN         1045.500000      360.000000      23.000000  "
      ]
     },
     "execution_count": 30,
     "metadata": {},
     "output_type": "execute_result"
    }
   ],
   "source": [
    "weather_df[weather_df['precip_depth_1_hr'].isnull()].describe()"
   ]
  },
  {
   "cell_type": "code",
   "execution_count": 31,
   "metadata": {},
   "outputs": [
    {
     "data": {
      "text/html": [
       "<div>\n",
       "<style scoped>\n",
       "    .dataframe tbody tr th:only-of-type {\n",
       "        vertical-align: middle;\n",
       "    }\n",
       "\n",
       "    .dataframe tbody tr th {\n",
       "        vertical-align: top;\n",
       "    }\n",
       "\n",
       "    .dataframe thead th {\n",
       "        text-align: right;\n",
       "    }\n",
       "</style>\n",
       "<table border=\"1\" class=\"dataframe\">\n",
       "  <thead>\n",
       "    <tr style=\"text-align: right;\">\n",
       "      <th></th>\n",
       "      <th>site_id</th>\n",
       "      <th>air_temperature</th>\n",
       "      <th>cloud_coverage</th>\n",
       "      <th>dew_temperature</th>\n",
       "      <th>precip_depth_1_hr</th>\n",
       "      <th>sea_level_pressure</th>\n",
       "      <th>wind_direction</th>\n",
       "      <th>wind_speed</th>\n",
       "    </tr>\n",
       "  </thead>\n",
       "  <tbody>\n",
       "    <tr>\n",
       "      <td>count</td>\n",
       "      <td>271139.000000</td>\n",
       "      <td>271014.000000</td>\n",
       "      <td>155062.000000</td>\n",
       "      <td>270828.000000</td>\n",
       "      <td>271139.000000</td>\n",
       "      <td>266916.000000</td>\n",
       "      <td>254000.000000</td>\n",
       "      <td>270416.000000</td>\n",
       "    </tr>\n",
       "    <tr>\n",
       "      <td>mean</td>\n",
       "      <td>7.117003</td>\n",
       "      <td>16.641820</td>\n",
       "      <td>1.843469</td>\n",
       "      <td>8.494566</td>\n",
       "      <td>1.058317</td>\n",
       "      <td>1016.260660</td>\n",
       "      <td>167.854811</td>\n",
       "      <td>3.246224</td>\n",
       "    </tr>\n",
       "    <tr>\n",
       "      <td>std</td>\n",
       "      <td>4.544138</td>\n",
       "      <td>10.732103</td>\n",
       "      <td>2.293401</td>\n",
       "      <td>10.524978</td>\n",
       "      <td>8.938746</td>\n",
       "      <td>6.974033</td>\n",
       "      <td>115.452008</td>\n",
       "      <td>2.208037</td>\n",
       "    </tr>\n",
       "    <tr>\n",
       "      <td>min</td>\n",
       "      <td>0.000000</td>\n",
       "      <td>-28.900000</td>\n",
       "      <td>0.000000</td>\n",
       "      <td>-31.700000</td>\n",
       "      <td>-1.000000</td>\n",
       "      <td>973.200000</td>\n",
       "      <td>0.000000</td>\n",
       "      <td>0.000000</td>\n",
       "    </tr>\n",
       "    <tr>\n",
       "      <td>25%</td>\n",
       "      <td>3.000000</td>\n",
       "      <td>9.400000</td>\n",
       "      <td>0.000000</td>\n",
       "      <td>0.600000</td>\n",
       "      <td>0.000000</td>\n",
       "      <td>1012.000000</td>\n",
       "      <td>60.000000</td>\n",
       "      <td>2.100000</td>\n",
       "    </tr>\n",
       "    <tr>\n",
       "      <td>50%</td>\n",
       "      <td>8.000000</td>\n",
       "      <td>17.800000</td>\n",
       "      <td>2.000000</td>\n",
       "      <td>10.000000</td>\n",
       "      <td>0.000000</td>\n",
       "      <td>1016.200000</td>\n",
       "      <td>170.000000</td>\n",
       "      <td>3.100000</td>\n",
       "    </tr>\n",
       "    <tr>\n",
       "      <td>75%</td>\n",
       "      <td>10.000000</td>\n",
       "      <td>24.400000</td>\n",
       "      <td>4.000000</td>\n",
       "      <td>17.200000</td>\n",
       "      <td>0.000000</td>\n",
       "      <td>1020.300000</td>\n",
       "      <td>270.000000</td>\n",
       "      <td>4.600000</td>\n",
       "    </tr>\n",
       "    <tr>\n",
       "      <td>max</td>\n",
       "      <td>15.000000</td>\n",
       "      <td>48.300000</td>\n",
       "      <td>9.000000</td>\n",
       "      <td>26.700000</td>\n",
       "      <td>597.000000</td>\n",
       "      <td>1050.100000</td>\n",
       "      <td>360.000000</td>\n",
       "      <td>24.200000</td>\n",
       "    </tr>\n",
       "  </tbody>\n",
       "</table>\n",
       "</div>"
      ],
      "text/plain": [
       "             site_id  air_temperature  cloud_coverage  dew_temperature  \\\n",
       "count  271139.000000    271014.000000   155062.000000    270828.000000   \n",
       "mean        7.117003        16.641820        1.843469         8.494566   \n",
       "std         4.544138        10.732103        2.293401        10.524978   \n",
       "min         0.000000       -28.900000        0.000000       -31.700000   \n",
       "25%         3.000000         9.400000        0.000000         0.600000   \n",
       "50%         8.000000        17.800000        2.000000        10.000000   \n",
       "75%        10.000000        24.400000        4.000000        17.200000   \n",
       "max        15.000000        48.300000        9.000000        26.700000   \n",
       "\n",
       "       precip_depth_1_hr  sea_level_pressure  wind_direction     wind_speed  \n",
       "count      271139.000000       266916.000000   254000.000000  270416.000000  \n",
       "mean            1.058317         1016.260660      167.854811       3.246224  \n",
       "std             8.938746            6.974033      115.452008       2.208037  \n",
       "min            -1.000000          973.200000        0.000000       0.000000  \n",
       "25%             0.000000         1012.000000       60.000000       2.100000  \n",
       "50%             0.000000         1016.200000      170.000000       3.100000  \n",
       "75%             0.000000         1020.300000      270.000000       4.600000  \n",
       "max           597.000000         1050.100000      360.000000      24.200000  "
      ]
     },
     "execution_count": 31,
     "metadata": {},
     "output_type": "execute_result"
    }
   ],
   "source": [
    "weather_df[~weather_df['precip_depth_1_hr'].isnull()].describe()"
   ]
  },
  {
   "cell_type": "markdown",
   "metadata": {},
   "source": [
    "Not sure how to input precip_depth_1_hr. It is missing in colder weather. Might be invalid in snowy conditions. I will fill with median and include a flag but that seems incorrect. I should make a sample of weather_df with otherwise similar characteristics to the nan values and fill with the median of that sample.\n"
   ]
  },
  {
   "cell_type": "code",
   "execution_count": 32,
   "metadata": {},
   "outputs": [
    {
     "data": {
      "text/plain": [
       "building_id\n",
       "0       26304\n",
       "1       26304\n",
       "2       26304\n",
       "3       26304\n",
       "4       26304\n",
       "        ...  \n",
       "1444    24965\n",
       "1445    24969\n",
       "1446    24992\n",
       "1447    24991\n",
       "1448    24972\n",
       "Name: meter, Length: 1449, dtype: int64"
      ]
     },
     "execution_count": 32,
     "metadata": {},
     "output_type": "execute_result"
    }
   ],
   "source": [
    "train_test_df.groupby('building_id')['meter'].count()"
   ]
  },
  {
   "cell_type": "code",
   "execution_count": 33,
   "metadata": {},
   "outputs": [],
   "source": [
    "#train_test_df.groupby('building_id')['meter'].nunique().sort_values('building_id', ascending = False)"
   ]
  },
  {
   "cell_type": "code",
   "execution_count": 34,
   "metadata": {},
   "outputs": [],
   "source": [
    "#multiple_meters_df = train_test_df[train_test_df.duplicated(subset=['building_id', 'timestamp'], keep=False)]"
   ]
  },
  {
   "cell_type": "code",
   "execution_count": 35,
   "metadata": {},
   "outputs": [],
   "source": [
    "#multiple_meters_df"
   ]
  },
  {
   "cell_type": "code",
   "execution_count": 36,
   "metadata": {},
   "outputs": [],
   "source": [
    "#multiple_meters_df.sort_values(['building_id', 'timestamp']).head(10)"
   ]
  },
  {
   "cell_type": "code",
   "execution_count": 37,
   "metadata": {},
   "outputs": [
    {
     "data": {
      "text/plain": [
       "Index(['site_id', 'timestamp', 'air_temperature', 'cloud_coverage',\n",
       "       'dew_temperature', 'precip_depth_1_hr', 'sea_level_pressure',\n",
       "       'wind_direction', 'wind_speed'],\n",
       "      dtype='object')"
      ]
     },
     "execution_count": 37,
     "metadata": {},
     "output_type": "execute_result"
    }
   ],
   "source": [
    "weather_df.columns"
   ]
  },
  {
   "cell_type": "markdown",
   "metadata": {},
   "source": [
    "## Data processing"
   ]
  },
  {
   "cell_type": "code",
   "execution_count": 38,
   "metadata": {},
   "outputs": [],
   "source": [
    "building_metadata_df['floor_count'] = building_metadata_df['floor_count'].fillna(building_metadata_df['floor_count'].median())\n",
    "building_metadata_df['year_built'] = building_metadata_df['year_built'].fillna(building_metadata_df['year_built'].mean())\n",
    "\n",
    "\n",
    "weather_df = weather_df.sort_values(['site_id', 'timestamp'])\n",
    "\n",
    "weather_df['air_temperature'] = weather_df['air_temperature'].fillna(method='ffill')\n",
    "weather_df['dew_temperature'] = weather_df['dew_temperature'].fillna(method='ffill')\n",
    "weather_df['wind_speed'] = weather_df['wind_speed'].fillna(method='ffill')\n",
    "\n",
    "weather_df['air_temperature'] = weather_df['air_temperature'].fillna(weather_df['air_temperature'].median())\n",
    "weather_df['cloud_coverage_present_flag'] = weather_df['cloud_coverage'].apply(lambda x: 0 if pd.isna(x) else 1)\n",
    "weather_df['cloud_coverage'] = weather_df['cloud_coverage'].fillna(0)\n",
    "weather_df['dew_temperature'] = weather_df['dew_temperature'].fillna(weather_df['dew_temperature'].median())\n",
    "weather_df['precip_depth_1_hr_present_flag'] = weather_df['precip_depth_1_hr'].apply(lambda x: 0 if pd.isna(x) else 1)\n",
    "weather_df['precip_depth_1_hr'] = weather_df['precip_depth_1_hr'].fillna(weather_df['precip_depth_1_hr'].median())\n",
    "weather_df['wind_direction_present_flag'] = weather_df['wind_direction'].apply(lambda x: 0 if pd.isna(x) else 1)\n",
    "weather_df['wind_speed'] = weather_df['wind_speed'].fillna(weather_df['wind_speed'].median())"
   ]
  },
  {
   "cell_type": "code",
   "execution_count": 39,
   "metadata": {},
   "outputs": [],
   "source": [
    "import math\n",
    "\n",
    "weather_df['wind_direction_north'] = weather_df['wind_direction'].apply(lambda x:  math.sin(math.radians(x)) if not pd.isna(x) else x)\n",
    "weather_df['wind_direction_east'] = weather_df['wind_direction'].apply(lambda x:  math.sin(math.radians(x)) if not pd.isna(x) else x)\n",
    "\n",
    "weather_df['wind_direction'] = weather_df['wind_direction'].fillna(0)\n",
    "weather_df['wind_direction_north'] = weather_df['wind_direction_north'].fillna(0)\n",
    "weather_df['wind_direction_east'] = weather_df['wind_direction_east'].fillna(0)\n"
   ]
  },
  {
   "cell_type": "code",
   "execution_count": 40,
   "metadata": {},
   "outputs": [],
   "source": [
    "primary_use_le = LabelEncoder()\n",
    "building_metadata_df['primary_use'] = primary_use_le.fit_transform(building_metadata_df['primary_use'])\n"
   ]
  },
  {
   "cell_type": "code",
   "execution_count": 41,
   "metadata": {},
   "outputs": [],
   "source": [
    "train_test_df['timestamp_dt'] = pd.to_datetime(train_test_df['timestamp'])\n"
   ]
  },
  {
   "cell_type": "code",
   "execution_count": 42,
   "metadata": {},
   "outputs": [],
   "source": [
    "train_test_df['hour_of_day'] = train_test_df['timestamp_dt'].dt.hour\n",
    "train_test_df['day_of_week'] = train_test_df['timestamp_dt'].dt.dayofweek\n",
    "train_test_df['month_of_year'] = train_test_df['timestamp_dt'].dt.month\n",
    "train_test_df['day_of_month'] = train_test_df['timestamp_dt'].dt.day\n",
    "train_test_df = train_test_df.drop('timestamp_dt', axis = 1)\n",
    "\n"
   ]
  },
  {
   "cell_type": "code",
   "execution_count": null,
   "metadata": {},
   "outputs": [],
   "source": [
    "\n"
   ]
  },
  {
   "cell_type": "code",
   "execution_count": null,
   "metadata": {},
   "outputs": [],
   "source": []
  },
  {
   "cell_type": "code",
   "execution_count": null,
   "metadata": {},
   "outputs": [],
   "source": []
  },
  {
   "cell_type": "code",
   "execution_count": 43,
   "metadata": {},
   "outputs": [],
   "source": [
    "train_test_df = train_test_df.merge(building_metadata_df, how='left')\n",
    "del building_metadata_df\n",
    "train_test_df = train_test_df.merge(weather_df, how='left')\n",
    "del weather_df"
   ]
  },
  {
   "cell_type": "code",
   "execution_count": 44,
   "metadata": {},
   "outputs": [
    {
     "data": {
      "text/plain": [
       "(61913700, 27)"
      ]
     },
     "execution_count": 44,
     "metadata": {},
     "output_type": "execute_result"
    }
   ],
   "source": [
    "train_test_df.shape"
   ]
  },
  {
   "cell_type": "code",
   "execution_count": 45,
   "metadata": {},
   "outputs": [
    {
     "data": {
      "text/plain": [
       "Index(['building_id', 'meter', 'meter_reading', 'row_id', 'timestamp',\n",
       "       'train_test', 'hour_of_day', 'day_of_week', 'month_of_year',\n",
       "       'day_of_month', 'site_id', 'primary_use', 'square_feet', 'year_built',\n",
       "       'floor_count', 'air_temperature', 'cloud_coverage', 'dew_temperature',\n",
       "       'precip_depth_1_hr', 'sea_level_pressure', 'wind_direction',\n",
       "       'wind_speed', 'cloud_coverage_present_flag',\n",
       "       'precip_depth_1_hr_present_flag', 'wind_direction_present_flag',\n",
       "       'wind_direction_north', 'wind_direction_east'],\n",
       "      dtype='object')"
      ]
     },
     "execution_count": 45,
     "metadata": {},
     "output_type": "execute_result"
    }
   ],
   "source": [
    "train_test_df.columns"
   ]
  },
  {
   "cell_type": "code",
   "execution_count": null,
   "metadata": {},
   "outputs": [],
   "source": []
  },
  {
   "cell_type": "markdown",
   "metadata": {},
   "source": [
    "## Time series analysis"
   ]
  },
  {
   "cell_type": "markdown",
   "metadata": {},
   "source": [
    "Can time series meter values be used for test data?"
   ]
  },
  {
   "cell_type": "code",
   "execution_count": 46,
   "metadata": {},
   "outputs": [],
   "source": [
    "timeseries_columns = ['air_temperature', 'cloud_coverage', 'dew_temperature', \n",
    "                      'precip_depth_1_hr', 'sea_level_pressure', 'wind_speed', 'wind_direction_north', 'wind_direction_east']\n",
    "\n",
    "def n_day_func(df, n, func = 'avg'):\n",
    "    if func == 'avg':\n",
    "        df_group = df.groupby(['building_id', 'meter']).rolling(window=n)[timeseries_columns].mean().fillna(method='ffill')\n",
    "    if func == 'std':\n",
    "        df_group = df.groupby(['building_id', 'meter']).rolling(window=n)[timeseries_columns].std().fillna(method='ffill')\n",
    "    if func == 'diff':\n",
    "        df_group = df[timeseries_columns + ['building_id', 'meter', 'timestamp']]\n",
    "        df_group = df_group.sort_values(by=['building_id', 'meter', 'timestamp'])\n",
    "        df_group = df[timeseries_columns].diff(periods = n).fillna(method='ffill')\n",
    "  \n",
    "    df_group = df_group.fillna(df_group.median()).astype('float32')\n",
    "    \n",
    "    df_group.columns = [f\"f_{n}_hour_{func}_\" + str(i) for i in df_group.columns]\n",
    "    df_group.index = df.index\n",
    "    df_group = df.join(df_group)\n",
    "    return df_group\n",
    "    \n",
    "    "
   ]
  },
  {
   "cell_type": "code",
   "execution_count": 47,
   "metadata": {},
   "outputs": [
    {
     "data": {
      "text/plain": [
       "(61913700, 27)"
      ]
     },
     "execution_count": 47,
     "metadata": {},
     "output_type": "execute_result"
    }
   ],
   "source": [
    "train_test_df = train_test_df.sort_values('timestamp')\n",
    "train_test_df.shape"
   ]
  },
  {
   "cell_type": "code",
   "execution_count": 48,
   "metadata": {},
   "outputs": [
    {
     "data": {
      "text/plain": [
       "40"
      ]
     },
     "execution_count": 48,
     "metadata": {},
     "output_type": "execute_result"
    }
   ],
   "source": [
    "import gc\n",
    "gc.collect()"
   ]
  },
  {
   "cell_type": "code",
   "execution_count": 49,
   "metadata": {},
   "outputs": [
    {
     "data": {
      "text/plain": [
       "0"
      ]
     },
     "execution_count": 49,
     "metadata": {},
     "output_type": "execute_result"
    }
   ],
   "source": [
    "train_test_df = n_day_func(train_test_df, 24, func = 'std')\n",
    "gc.collect()"
   ]
  },
  {
   "cell_type": "code",
   "execution_count": 50,
   "metadata": {},
   "outputs": [
    {
     "name": "stdout",
     "output_type": "stream",
     "text": [
      "-168\n",
      "-24\n",
      "-1\n",
      "1\n",
      "24\n",
      "168\n"
     ]
    }
   ],
   "source": [
    "for i in [-7*24, -24, -1, 1, 24, 7*24]:\n",
    "    print(i)\n",
    "    train_test_df = n_day_func(train_test_df, i, func = 'diff')\n",
    "    gc.collect()"
   ]
  },
  {
   "cell_type": "code",
   "execution_count": null,
   "metadata": {},
   "outputs": [],
   "source": []
  },
  {
   "cell_type": "code",
   "execution_count": null,
   "metadata": {},
   "outputs": [],
   "source": []
  },
  {
   "cell_type": "code",
   "execution_count": null,
   "metadata": {},
   "outputs": [],
   "source": []
  },
  {
   "cell_type": "code",
   "execution_count": null,
   "metadata": {},
   "outputs": [],
   "source": []
  },
  {
   "cell_type": "code",
   "execution_count": null,
   "metadata": {},
   "outputs": [],
   "source": []
  },
  {
   "cell_type": "code",
   "execution_count": 51,
   "metadata": {},
   "outputs": [
    {
     "data": {
      "text/plain": [
       "Index(['building_id', 'meter', 'meter_reading', 'row_id', 'timestamp',\n",
       "       'train_test', 'hour_of_day', 'day_of_week', 'month_of_year',\n",
       "       'day_of_month', 'site_id', 'primary_use', 'square_feet', 'year_built',\n",
       "       'floor_count', 'air_temperature', 'cloud_coverage', 'dew_temperature',\n",
       "       'precip_depth_1_hr', 'sea_level_pressure', 'wind_direction',\n",
       "       'wind_speed', 'cloud_coverage_present_flag',\n",
       "       'precip_depth_1_hr_present_flag', 'wind_direction_present_flag',\n",
       "       'wind_direction_north', 'wind_direction_east',\n",
       "       'f_24_hour_std_air_temperature', 'f_24_hour_std_cloud_coverage',\n",
       "       'f_24_hour_std_dew_temperature', 'f_24_hour_std_precip_depth_1_hr',\n",
       "       'f_24_hour_std_sea_level_pressure', 'f_24_hour_std_wind_speed',\n",
       "       'f_24_hour_std_wind_direction_north',\n",
       "       'f_24_hour_std_wind_direction_east', 'f_-168_hour_diff_air_temperature',\n",
       "       'f_-168_hour_diff_cloud_coverage', 'f_-168_hour_diff_dew_temperature',\n",
       "       'f_-168_hour_diff_precip_depth_1_hr',\n",
       "       'f_-168_hour_diff_sea_level_pressure', 'f_-168_hour_diff_wind_speed',\n",
       "       'f_-168_hour_diff_wind_direction_north',\n",
       "       'f_-168_hour_diff_wind_direction_east',\n",
       "       'f_-24_hour_diff_air_temperature', 'f_-24_hour_diff_cloud_coverage',\n",
       "       'f_-24_hour_diff_dew_temperature', 'f_-24_hour_diff_precip_depth_1_hr',\n",
       "       'f_-24_hour_diff_sea_level_pressure', 'f_-24_hour_diff_wind_speed',\n",
       "       'f_-24_hour_diff_wind_direction_north',\n",
       "       'f_-24_hour_diff_wind_direction_east', 'f_-1_hour_diff_air_temperature',\n",
       "       'f_-1_hour_diff_cloud_coverage', 'f_-1_hour_diff_dew_temperature',\n",
       "       'f_-1_hour_diff_precip_depth_1_hr', 'f_-1_hour_diff_sea_level_pressure',\n",
       "       'f_-1_hour_diff_wind_speed', 'f_-1_hour_diff_wind_direction_north',\n",
       "       'f_-1_hour_diff_wind_direction_east', 'f_1_hour_diff_air_temperature',\n",
       "       'f_1_hour_diff_cloud_coverage', 'f_1_hour_diff_dew_temperature',\n",
       "       'f_1_hour_diff_precip_depth_1_hr', 'f_1_hour_diff_sea_level_pressure',\n",
       "       'f_1_hour_diff_wind_speed', 'f_1_hour_diff_wind_direction_north',\n",
       "       'f_1_hour_diff_wind_direction_east', 'f_24_hour_diff_air_temperature',\n",
       "       'f_24_hour_diff_cloud_coverage', 'f_24_hour_diff_dew_temperature',\n",
       "       'f_24_hour_diff_precip_depth_1_hr', 'f_24_hour_diff_sea_level_pressure',\n",
       "       'f_24_hour_diff_wind_speed', 'f_24_hour_diff_wind_direction_north',\n",
       "       'f_24_hour_diff_wind_direction_east', 'f_168_hour_diff_air_temperature',\n",
       "       'f_168_hour_diff_cloud_coverage', 'f_168_hour_diff_dew_temperature',\n",
       "       'f_168_hour_diff_precip_depth_1_hr',\n",
       "       'f_168_hour_diff_sea_level_pressure', 'f_168_hour_diff_wind_speed',\n",
       "       'f_168_hour_diff_wind_direction_north',\n",
       "       'f_168_hour_diff_wind_direction_east'],\n",
       "      dtype='object')"
      ]
     },
     "execution_count": 51,
     "metadata": {},
     "output_type": "execute_result"
    }
   ],
   "source": [
    "train_test_df.columns"
   ]
  },
  {
   "cell_type": "code",
   "execution_count": 52,
   "metadata": {},
   "outputs": [],
   "source": [
    "# train_df['f_3_hour_avg_air_temperature'].describe()"
   ]
  },
  {
   "cell_type": "code",
   "execution_count": 53,
   "metadata": {},
   "outputs": [
    {
     "data": {
      "text/plain": [
       "Index(['building_id', 'meter', 'meter_reading', 'row_id', 'timestamp',\n",
       "       'train_test', 'hour_of_day', 'day_of_week', 'month_of_year',\n",
       "       'day_of_month', 'site_id', 'primary_use', 'square_feet', 'year_built',\n",
       "       'floor_count', 'air_temperature', 'cloud_coverage', 'dew_temperature',\n",
       "       'precip_depth_1_hr', 'sea_level_pressure', 'wind_direction',\n",
       "       'wind_speed', 'cloud_coverage_present_flag',\n",
       "       'precip_depth_1_hr_present_flag', 'wind_direction_present_flag',\n",
       "       'wind_direction_north', 'wind_direction_east',\n",
       "       'f_24_hour_std_air_temperature', 'f_24_hour_std_cloud_coverage',\n",
       "       'f_24_hour_std_dew_temperature', 'f_24_hour_std_precip_depth_1_hr',\n",
       "       'f_24_hour_std_sea_level_pressure', 'f_24_hour_std_wind_speed',\n",
       "       'f_24_hour_std_wind_direction_north',\n",
       "       'f_24_hour_std_wind_direction_east', 'f_-168_hour_diff_air_temperature',\n",
       "       'f_-168_hour_diff_cloud_coverage', 'f_-168_hour_diff_dew_temperature',\n",
       "       'f_-168_hour_diff_precip_depth_1_hr',\n",
       "       'f_-168_hour_diff_sea_level_pressure', 'f_-168_hour_diff_wind_speed',\n",
       "       'f_-168_hour_diff_wind_direction_north',\n",
       "       'f_-168_hour_diff_wind_direction_east',\n",
       "       'f_-24_hour_diff_air_temperature', 'f_-24_hour_diff_cloud_coverage',\n",
       "       'f_-24_hour_diff_dew_temperature', 'f_-24_hour_diff_precip_depth_1_hr',\n",
       "       'f_-24_hour_diff_sea_level_pressure', 'f_-24_hour_diff_wind_speed',\n",
       "       'f_-24_hour_diff_wind_direction_north',\n",
       "       'f_-24_hour_diff_wind_direction_east', 'f_-1_hour_diff_air_temperature',\n",
       "       'f_-1_hour_diff_cloud_coverage', 'f_-1_hour_diff_dew_temperature',\n",
       "       'f_-1_hour_diff_precip_depth_1_hr', 'f_-1_hour_diff_sea_level_pressure',\n",
       "       'f_-1_hour_diff_wind_speed', 'f_-1_hour_diff_wind_direction_north',\n",
       "       'f_-1_hour_diff_wind_direction_east', 'f_1_hour_diff_air_temperature',\n",
       "       'f_1_hour_diff_cloud_coverage', 'f_1_hour_diff_dew_temperature',\n",
       "       'f_1_hour_diff_precip_depth_1_hr', 'f_1_hour_diff_sea_level_pressure',\n",
       "       'f_1_hour_diff_wind_speed', 'f_1_hour_diff_wind_direction_north',\n",
       "       'f_1_hour_diff_wind_direction_east', 'f_24_hour_diff_air_temperature',\n",
       "       'f_24_hour_diff_cloud_coverage', 'f_24_hour_diff_dew_temperature',\n",
       "       'f_24_hour_diff_precip_depth_1_hr', 'f_24_hour_diff_sea_level_pressure',\n",
       "       'f_24_hour_diff_wind_speed', 'f_24_hour_diff_wind_direction_north',\n",
       "       'f_24_hour_diff_wind_direction_east', 'f_168_hour_diff_air_temperature',\n",
       "       'f_168_hour_diff_cloud_coverage', 'f_168_hour_diff_dew_temperature',\n",
       "       'f_168_hour_diff_precip_depth_1_hr',\n",
       "       'f_168_hour_diff_sea_level_pressure', 'f_168_hour_diff_wind_speed',\n",
       "       'f_168_hour_diff_wind_direction_north',\n",
       "       'f_168_hour_diff_wind_direction_east'],\n",
       "      dtype='object')"
      ]
     },
     "execution_count": 53,
     "metadata": {},
     "output_type": "execute_result"
    }
   ],
   "source": [
    "train_test_df.columns"
   ]
  },
  {
   "cell_type": "markdown",
   "metadata": {},
   "source": [
    "## Baseline model"
   ]
  },
  {
   "cell_type": "code",
   "execution_count": 54,
   "metadata": {},
   "outputs": [],
   "source": [
    "invalid_features = ['train_test', 'meter_reading', 'timestamp', 'row_id']\n",
    "feature_cols = [i for i in train_test_df.columns if i not in invalid_features]\n",
    "target = 'meter_reading'\n"
   ]
  },
  {
   "cell_type": "code",
   "execution_count": 55,
   "metadata": {},
   "outputs": [],
   "source": [
    "train_df = train_test_df[train_test_df['train_test'] == 'train']\n",
    "train_test_df = train_test_df[train_test_df['train_test'] == 'test']\n",
    "test_df = train_test_df.copy()\n",
    "del train_test_df"
   ]
  },
  {
   "cell_type": "code",
   "execution_count": 56,
   "metadata": {},
   "outputs": [
    {
     "name": "stdout",
     "output_type": "stream",
     "text": [
      "Training until validation scores don't improve for 10 rounds\n",
      "[10]\ttrain's l2: 3.71768e+09\tvalid's l2: 3.55302e+09\n",
      "[20]\ttrain's l2: 9.02197e+08\tvalid's l2: 1.28182e+09\n",
      "[30]\ttrain's l2: 4.02939e+08\tvalid's l2: 9.46725e+08\n",
      "[40]\ttrain's l2: 2.56279e+08\tvalid's l2: 8.68018e+08\n",
      "[50]\ttrain's l2: 1.83873e+08\tvalid's l2: 8.48612e+08\n",
      "[60]\ttrain's l2: 1.44798e+08\tvalid's l2: 8.37954e+08\n",
      "[70]\ttrain's l2: 1.22036e+08\tvalid's l2: 8.25431e+08\n",
      "[80]\ttrain's l2: 1.08232e+08\tvalid's l2: 8.22029e+08\n",
      "[90]\ttrain's l2: 9.90828e+07\tvalid's l2: 8.18648e+08\n",
      "[100]\ttrain's l2: 9.3997e+07\tvalid's l2: 8.16871e+08\n",
      "[110]\ttrain's l2: 8.84816e+07\tvalid's l2: 8.13906e+08\n",
      "[120]\ttrain's l2: 8.56132e+07\tvalid's l2: 8.134e+08\n",
      "[130]\ttrain's l2: 8.25165e+07\tvalid's l2: 8.13243e+08\n",
      "[140]\ttrain's l2: 7.9712e+07\tvalid's l2: 8.12175e+08\n",
      "[150]\ttrain's l2: 7.45513e+07\tvalid's l2: 8.11135e+08\n",
      "[160]\ttrain's l2: 7.19887e+07\tvalid's l2: 8.09614e+08\n",
      "[170]\ttrain's l2: 7.11067e+07\tvalid's l2: 8.09358e+08\n",
      "[180]\ttrain's l2: 6.96598e+07\tvalid's l2: 8.08561e+08\n",
      "[190]\ttrain's l2: 6.79948e+07\tvalid's l2: 8.08571e+08\n",
      "Early stopping, best iteration is:\n",
      "[186]\ttrain's l2: 6.8615e+07\tvalid's l2: 8.0836e+08\n"
     ]
    }
   ],
   "source": [
    "lgbm_params = {\n",
    "    'boosting_type': 'gbdt',\n",
    "    'objective': 'regression',\n",
    "    'metric': 'l2',\n",
    "    \"learning_rate\": 0.1,\n",
    "    \"num_leaves\":256\n",
    "}\n",
    "num_boost_round = 1000000\n",
    "early_stopping_rounds = 10\n",
    "\n",
    "\n",
    "\n",
    "split_train_df, split_val_df = train_test_split(train_df, random_state = 1)\n",
    "\n",
    "lgtrain = lgb.Dataset(split_train_df[feature_cols], split_train_df[target])\n",
    "lgvalid = lgb.Dataset(split_val_df[feature_cols], split_val_df[target])\n",
    "\n",
    "model = lgb.train(lgbm_params, lgtrain,\n",
    "                 valid_sets=[lgtrain, lgvalid],\n",
    "                 num_boost_round=num_boost_round,\n",
    "                 valid_names=['train', 'valid'],\n",
    "                 early_stopping_rounds=early_stopping_rounds,\n",
    "                 verbose_eval=10)\n",
    "\n",
    "test_df['meter_reading'] = model.predict(test_df[feature_cols], num_iteration=model.best_iteration)\n",
    "test_df = test_df[['row_id', 'meter_reading']]\n",
    "test_df['row_id'] = test_df['row_id'].astype('int32')\n",
    "test_df = test_df.sort_values('row_id')\n",
    "test_df['meter_reading'] = test_df['meter_reading'].apply(lambda x: max(x, 0))\n",
    "test_df.to_csv(f'{dir_loc}/preds.csv.zip', index = False, compression = 'zip')\n",
    "\n",
    "fi = model.feature_importance(iteration=model.best_iteration, importance_type='gain')\n",
    "feature_importance_df = pd.DataFrame.from_dict([{'column': i, 'feature_importance':j} for i, j in zip(feature_cols, fi)])"
   ]
  },
  {
   "cell_type": "code",
   "execution_count": 57,
   "metadata": {},
   "outputs": [
    {
     "data": {
      "text/html": [
       "<div>\n",
       "<style scoped>\n",
       "    .dataframe tbody tr th:only-of-type {\n",
       "        vertical-align: middle;\n",
       "    }\n",
       "\n",
       "    .dataframe tbody tr th {\n",
       "        vertical-align: top;\n",
       "    }\n",
       "\n",
       "    .dataframe thead th {\n",
       "        text-align: right;\n",
       "    }\n",
       "</style>\n",
       "<table border=\"1\" class=\"dataframe\">\n",
       "  <thead>\n",
       "    <tr style=\"text-align: right;\">\n",
       "      <th></th>\n",
       "      <th>column</th>\n",
       "      <th>feature_importance</th>\n",
       "    </tr>\n",
       "  </thead>\n",
       "  <tbody>\n",
       "    <tr>\n",
       "      <td>4</td>\n",
       "      <td>month_of_year</td>\n",
       "      <td>9.767871e+17</td>\n",
       "    </tr>\n",
       "    <tr>\n",
       "      <td>1</td>\n",
       "      <td>meter</td>\n",
       "      <td>2.644581e+17</td>\n",
       "    </tr>\n",
       "    <tr>\n",
       "      <td>0</td>\n",
       "      <td>building_id</td>\n",
       "      <td>1.990903e+17</td>\n",
       "    </tr>\n",
       "    <tr>\n",
       "      <td>5</td>\n",
       "      <td>day_of_month</td>\n",
       "      <td>1.235557e+17</td>\n",
       "    </tr>\n",
       "    <tr>\n",
       "      <td>13</td>\n",
       "      <td>dew_temperature</td>\n",
       "      <td>1.148393e+17</td>\n",
       "    </tr>\n",
       "    <tr>\n",
       "      <td>8</td>\n",
       "      <td>square_feet</td>\n",
       "      <td>6.650722e+16</td>\n",
       "    </tr>\n",
       "    <tr>\n",
       "      <td>3</td>\n",
       "      <td>day_of_week</td>\n",
       "      <td>3.474100e+16</td>\n",
       "    </tr>\n",
       "    <tr>\n",
       "      <td>11</td>\n",
       "      <td>air_temperature</td>\n",
       "      <td>2.355488e+16</td>\n",
       "    </tr>\n",
       "    <tr>\n",
       "      <td>15</td>\n",
       "      <td>sea_level_pressure</td>\n",
       "      <td>1.621491e+16</td>\n",
       "    </tr>\n",
       "    <tr>\n",
       "      <td>2</td>\n",
       "      <td>hour_of_day</td>\n",
       "      <td>1.465659e+16</td>\n",
       "    </tr>\n",
       "    <tr>\n",
       "      <td>71</td>\n",
       "      <td>f_168_hour_diff_air_temperature</td>\n",
       "      <td>9.440995e+15</td>\n",
       "    </tr>\n",
       "    <tr>\n",
       "      <td>75</td>\n",
       "      <td>f_168_hour_diff_sea_level_pressure</td>\n",
       "      <td>8.786011e+15</td>\n",
       "    </tr>\n",
       "    <tr>\n",
       "      <td>17</td>\n",
       "      <td>wind_speed</td>\n",
       "      <td>7.103175e+15</td>\n",
       "    </tr>\n",
       "    <tr>\n",
       "      <td>73</td>\n",
       "      <td>f_168_hour_diff_dew_temperature</td>\n",
       "      <td>6.688958e+15</td>\n",
       "    </tr>\n",
       "    <tr>\n",
       "      <td>77</td>\n",
       "      <td>f_168_hour_diff_wind_direction_north</td>\n",
       "      <td>5.115650e+15</td>\n",
       "    </tr>\n",
       "    <tr>\n",
       "      <td>21</td>\n",
       "      <td>wind_direction_north</td>\n",
       "      <td>4.897323e+15</td>\n",
       "    </tr>\n",
       "    <tr>\n",
       "      <td>16</td>\n",
       "      <td>wind_direction</td>\n",
       "      <td>4.504222e+15</td>\n",
       "    </tr>\n",
       "    <tr>\n",
       "      <td>31</td>\n",
       "      <td>f_-168_hour_diff_air_temperature</td>\n",
       "      <td>3.825208e+15</td>\n",
       "    </tr>\n",
       "    <tr>\n",
       "      <td>35</td>\n",
       "      <td>f_-168_hour_diff_sea_level_pressure</td>\n",
       "      <td>3.785294e+15</td>\n",
       "    </tr>\n",
       "    <tr>\n",
       "      <td>76</td>\n",
       "      <td>f_168_hour_diff_wind_speed</td>\n",
       "      <td>3.383524e+15</td>\n",
       "    </tr>\n",
       "    <tr>\n",
       "      <td>33</td>\n",
       "      <td>f_-168_hour_diff_dew_temperature</td>\n",
       "      <td>2.858943e+15</td>\n",
       "    </tr>\n",
       "    <tr>\n",
       "      <td>24</td>\n",
       "      <td>f_24_hour_std_cloud_coverage</td>\n",
       "      <td>2.780082e+15</td>\n",
       "    </tr>\n",
       "    <tr>\n",
       "      <td>65</td>\n",
       "      <td>f_24_hour_diff_dew_temperature</td>\n",
       "      <td>2.506066e+15</td>\n",
       "    </tr>\n",
       "    <tr>\n",
       "      <td>67</td>\n",
       "      <td>f_24_hour_diff_sea_level_pressure</td>\n",
       "      <td>2.271992e+15</td>\n",
       "    </tr>\n",
       "    <tr>\n",
       "      <td>28</td>\n",
       "      <td>f_24_hour_std_wind_speed</td>\n",
       "      <td>1.862341e+15</td>\n",
       "    </tr>\n",
       "    <tr>\n",
       "      <td>23</td>\n",
       "      <td>f_24_hour_std_air_temperature</td>\n",
       "      <td>1.850439e+15</td>\n",
       "    </tr>\n",
       "    <tr>\n",
       "      <td>29</td>\n",
       "      <td>f_24_hour_std_wind_direction_north</td>\n",
       "      <td>1.814383e+15</td>\n",
       "    </tr>\n",
       "    <tr>\n",
       "      <td>63</td>\n",
       "      <td>f_24_hour_diff_air_temperature</td>\n",
       "      <td>1.681353e+15</td>\n",
       "    </tr>\n",
       "    <tr>\n",
       "      <td>25</td>\n",
       "      <td>f_24_hour_std_dew_temperature</td>\n",
       "      <td>1.638911e+15</td>\n",
       "    </tr>\n",
       "    <tr>\n",
       "      <td>37</td>\n",
       "      <td>f_-168_hour_diff_wind_direction_north</td>\n",
       "      <td>1.500782e+15</td>\n",
       "    </tr>\n",
       "    <tr>\n",
       "      <td>27</td>\n",
       "      <td>f_24_hour_std_sea_level_pressure</td>\n",
       "      <td>1.491235e+15</td>\n",
       "    </tr>\n",
       "    <tr>\n",
       "      <td>69</td>\n",
       "      <td>f_24_hour_diff_wind_direction_north</td>\n",
       "      <td>1.334521e+15</td>\n",
       "    </tr>\n",
       "    <tr>\n",
       "      <td>68</td>\n",
       "      <td>f_24_hour_diff_wind_speed</td>\n",
       "      <td>9.770265e+14</td>\n",
       "    </tr>\n",
       "    <tr>\n",
       "      <td>26</td>\n",
       "      <td>f_24_hour_std_precip_depth_1_hr</td>\n",
       "      <td>7.771554e+14</td>\n",
       "    </tr>\n",
       "    <tr>\n",
       "      <td>74</td>\n",
       "      <td>f_168_hour_diff_precip_depth_1_hr</td>\n",
       "      <td>5.550535e+14</td>\n",
       "    </tr>\n",
       "    <tr>\n",
       "      <td>18</td>\n",
       "      <td>cloud_coverage_present_flag</td>\n",
       "      <td>4.826069e+14</td>\n",
       "    </tr>\n",
       "    <tr>\n",
       "      <td>14</td>\n",
       "      <td>precip_depth_1_hr</td>\n",
       "      <td>4.011055e+14</td>\n",
       "    </tr>\n",
       "    <tr>\n",
       "      <td>12</td>\n",
       "      <td>cloud_coverage</td>\n",
       "      <td>3.917829e+14</td>\n",
       "    </tr>\n",
       "    <tr>\n",
       "      <td>36</td>\n",
       "      <td>f_-168_hour_diff_wind_speed</td>\n",
       "      <td>3.421015e+14</td>\n",
       "    </tr>\n",
       "    <tr>\n",
       "      <td>59</td>\n",
       "      <td>f_1_hour_diff_sea_level_pressure</td>\n",
       "      <td>2.837309e+14</td>\n",
       "    </tr>\n",
       "    <tr>\n",
       "      <td>72</td>\n",
       "      <td>f_168_hour_diff_cloud_coverage</td>\n",
       "      <td>2.597393e+14</td>\n",
       "    </tr>\n",
       "    <tr>\n",
       "      <td>39</td>\n",
       "      <td>f_-24_hour_diff_air_temperature</td>\n",
       "      <td>2.315715e+14</td>\n",
       "    </tr>\n",
       "    <tr>\n",
       "      <td>61</td>\n",
       "      <td>f_1_hour_diff_wind_direction_north</td>\n",
       "      <td>2.306021e+14</td>\n",
       "    </tr>\n",
       "    <tr>\n",
       "      <td>43</td>\n",
       "      <td>f_-24_hour_diff_sea_level_pressure</td>\n",
       "      <td>2.017514e+14</td>\n",
       "    </tr>\n",
       "    <tr>\n",
       "      <td>66</td>\n",
       "      <td>f_24_hour_diff_precip_depth_1_hr</td>\n",
       "      <td>1.633624e+14</td>\n",
       "    </tr>\n",
       "    <tr>\n",
       "      <td>51</td>\n",
       "      <td>f_-1_hour_diff_sea_level_pressure</td>\n",
       "      <td>1.341857e+14</td>\n",
       "    </tr>\n",
       "    <tr>\n",
       "      <td>44</td>\n",
       "      <td>f_-24_hour_diff_wind_speed</td>\n",
       "      <td>1.254910e+14</td>\n",
       "    </tr>\n",
       "    <tr>\n",
       "      <td>7</td>\n",
       "      <td>primary_use</td>\n",
       "      <td>1.020486e+14</td>\n",
       "    </tr>\n",
       "    <tr>\n",
       "      <td>64</td>\n",
       "      <td>f_24_hour_diff_cloud_coverage</td>\n",
       "      <td>9.550736e+13</td>\n",
       "    </tr>\n",
       "    <tr>\n",
       "      <td>40</td>\n",
       "      <td>f_-24_hour_diff_cloud_coverage</td>\n",
       "      <td>9.067089e+13</td>\n",
       "    </tr>\n",
       "  </tbody>\n",
       "</table>\n",
       "</div>"
      ],
      "text/plain": [
       "                                   column  feature_importance\n",
       "4                           month_of_year        9.767871e+17\n",
       "1                                   meter        2.644581e+17\n",
       "0                             building_id        1.990903e+17\n",
       "5                            day_of_month        1.235557e+17\n",
       "13                        dew_temperature        1.148393e+17\n",
       "8                             square_feet        6.650722e+16\n",
       "3                             day_of_week        3.474100e+16\n",
       "11                        air_temperature        2.355488e+16\n",
       "15                     sea_level_pressure        1.621491e+16\n",
       "2                             hour_of_day        1.465659e+16\n",
       "71        f_168_hour_diff_air_temperature        9.440995e+15\n",
       "75     f_168_hour_diff_sea_level_pressure        8.786011e+15\n",
       "17                             wind_speed        7.103175e+15\n",
       "73        f_168_hour_diff_dew_temperature        6.688958e+15\n",
       "77   f_168_hour_diff_wind_direction_north        5.115650e+15\n",
       "21                   wind_direction_north        4.897323e+15\n",
       "16                         wind_direction        4.504222e+15\n",
       "31       f_-168_hour_diff_air_temperature        3.825208e+15\n",
       "35    f_-168_hour_diff_sea_level_pressure        3.785294e+15\n",
       "76             f_168_hour_diff_wind_speed        3.383524e+15\n",
       "33       f_-168_hour_diff_dew_temperature        2.858943e+15\n",
       "24           f_24_hour_std_cloud_coverage        2.780082e+15\n",
       "65         f_24_hour_diff_dew_temperature        2.506066e+15\n",
       "67      f_24_hour_diff_sea_level_pressure        2.271992e+15\n",
       "28               f_24_hour_std_wind_speed        1.862341e+15\n",
       "23          f_24_hour_std_air_temperature        1.850439e+15\n",
       "29     f_24_hour_std_wind_direction_north        1.814383e+15\n",
       "63         f_24_hour_diff_air_temperature        1.681353e+15\n",
       "25          f_24_hour_std_dew_temperature        1.638911e+15\n",
       "37  f_-168_hour_diff_wind_direction_north        1.500782e+15\n",
       "27       f_24_hour_std_sea_level_pressure        1.491235e+15\n",
       "69    f_24_hour_diff_wind_direction_north        1.334521e+15\n",
       "68              f_24_hour_diff_wind_speed        9.770265e+14\n",
       "26        f_24_hour_std_precip_depth_1_hr        7.771554e+14\n",
       "74      f_168_hour_diff_precip_depth_1_hr        5.550535e+14\n",
       "18            cloud_coverage_present_flag        4.826069e+14\n",
       "14                      precip_depth_1_hr        4.011055e+14\n",
       "12                         cloud_coverage        3.917829e+14\n",
       "36            f_-168_hour_diff_wind_speed        3.421015e+14\n",
       "59       f_1_hour_diff_sea_level_pressure        2.837309e+14\n",
       "72         f_168_hour_diff_cloud_coverage        2.597393e+14\n",
       "39        f_-24_hour_diff_air_temperature        2.315715e+14\n",
       "61     f_1_hour_diff_wind_direction_north        2.306021e+14\n",
       "43     f_-24_hour_diff_sea_level_pressure        2.017514e+14\n",
       "66       f_24_hour_diff_precip_depth_1_hr        1.633624e+14\n",
       "51      f_-1_hour_diff_sea_level_pressure        1.341857e+14\n",
       "44             f_-24_hour_diff_wind_speed        1.254910e+14\n",
       "7                             primary_use        1.020486e+14\n",
       "64          f_24_hour_diff_cloud_coverage        9.550736e+13\n",
       "40         f_-24_hour_diff_cloud_coverage        9.067089e+13"
      ]
     },
     "execution_count": 57,
     "metadata": {},
     "output_type": "execute_result"
    }
   ],
   "source": [
    "feature_importance_df.sort_values('feature_importance', ascending = False).head(50)"
   ]
  },
  {
   "cell_type": "code",
   "execution_count": null,
   "metadata": {},
   "outputs": [],
   "source": []
  },
  {
   "cell_type": "code",
   "execution_count": null,
   "metadata": {},
   "outputs": [],
   "source": []
  },
  {
   "cell_type": "code",
   "execution_count": null,
   "metadata": {},
   "outputs": [],
   "source": []
  },
  {
   "cell_type": "code",
   "execution_count": null,
   "metadata": {},
   "outputs": [],
   "source": []
  },
  {
   "cell_type": "code",
   "execution_count": null,
   "metadata": {},
   "outputs": [],
   "source": []
  },
  {
   "cell_type": "code",
   "execution_count": null,
   "metadata": {},
   "outputs": [],
   "source": []
  },
  {
   "cell_type": "code",
   "execution_count": null,
   "metadata": {},
   "outputs": [],
   "source": []
  },
  {
   "cell_type": "code",
   "execution_count": null,
   "metadata": {},
   "outputs": [],
   "source": []
  },
  {
   "cell_type": "code",
   "execution_count": null,
   "metadata": {},
   "outputs": [],
   "source": []
  },
  {
   "cell_type": "code",
   "execution_count": null,
   "metadata": {},
   "outputs": [],
   "source": []
  }
 ],
 "metadata": {
  "kernelspec": {
   "display_name": "Python 3",
   "language": "python",
   "name": "python3"
  },
  "language_info": {
   "codemirror_mode": {
    "name": "ipython",
    "version": 3
   },
   "file_extension": ".py",
   "mimetype": "text/x-python",
   "name": "python",
   "nbconvert_exporter": "python",
   "pygments_lexer": "ipython3",
   "version": "3.7.4"
  }
 },
 "nbformat": 4,
 "nbformat_minor": 2
}
